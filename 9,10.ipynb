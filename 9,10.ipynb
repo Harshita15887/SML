{
  "nbformat": 4,
  "nbformat_minor": 0,
  "metadata": {
    "colab": {
      "provenance": [],
      "authorship_tag": "ABX9TyOVWIXQGyY0pG6X0mRexZZu",
      "include_colab_link": true
    },
    "kernelspec": {
      "name": "python3",
      "display_name": "Python 3"
    },
    "language_info": {
      "name": "python"
    }
  },
  "cells": [
    {
      "cell_type": "markdown",
      "metadata": {
        "id": "view-in-github",
        "colab_type": "text"
      },
      "source": [
        "<a href=\"https://colab.research.google.com/github/Harshita15887/SML/blob/main/9%2C10.ipynb\" target=\"_parent\"><img src=\"https://colab.research.google.com/assets/colab-badge.svg\" alt=\"Open In Colab\"/></a>"
      ]
    },
    {
      "cell_type": "code",
      "source": [
        "import pandas as pd\n"
      ],
      "metadata": {
        "id": "FY2t0EoxZHH6"
      },
      "execution_count": 4,
      "outputs": []
    },
    {
      "cell_type": "code",
      "source": [
        "df=pd.read_csv(\"/content/Book1.csv\")\n",
        "print(df)"
      ],
      "metadata": {
        "colab": {
          "base_uri": "https://localhost:8080/"
        },
        "id": "7uIRV6qed9pa",
        "outputId": "0fa9e3b2-5f0c-4859-bc87-6522e3570046"
      },
      "execution_count": 5,
      "outputs": [
        {
          "output_type": "stream",
          "name": "stdout",
          "text": [
            "   study hours per week  class attendance %  previous exam score  \\\n",
            "0                    10                  90                   85   \n",
            "1                     5                  60                   70   \n",
            "2                    15                  95                   90   \n",
            "3                     2                  30                   50   \n",
            "4                    12                  85                   88   \n",
            "5                     8                  74                   65   \n",
            "6                    14                  92                   93   \n",
            "7                     3                  50                   55   \n",
            "8                    11                  88                   80   \n",
            "9                     6                  65                   60   \n",
            "\n",
            "   participation in group study  subission of assignments  pass or fail  \n",
            "0                             1                       100             1  \n",
            "1                             0                        80             0  \n",
            "2                             1                       100             1  \n",
            "3                             0                        40             0  \n",
            "4                             1                        90             1  \n",
            "5                             0                        70             0  \n",
            "6                             1                        95             1  \n",
            "7                             0                        60             0  \n",
            "8                             1                        85             1  \n",
            "9                             0                        75             0  \n"
          ]
        }
      ]
    },
    {
      "cell_type": "code",
      "source": [
        "t=df[\"pass or fail\"]\n",
        "print(t)"
      ],
      "metadata": {
        "colab": {
          "base_uri": "https://localhost:8080/"
        },
        "id": "8o70S8reeDdf",
        "outputId": "f8d27b82-43ed-48e9-f548-b8d4ecab9fc1"
      },
      "execution_count": 22,
      "outputs": [
        {
          "output_type": "stream",
          "name": "stdout",
          "text": [
            "0    1\n",
            "1    0\n",
            "2    1\n",
            "3    0\n",
            "4    1\n",
            "5    0\n",
            "6    1\n",
            "7    0\n",
            "8    1\n",
            "9    0\n",
            "Name: pass or fail, dtype: int64\n"
          ]
        }
      ]
    },
    {
      "cell_type": "code",
      "source": [
        "f=df.drop(\"pass or fail\",axis=1)\n",
        "print(f)"
      ],
      "metadata": {
        "colab": {
          "base_uri": "https://localhost:8080/"
        },
        "id": "4pi8BhzXeg8P",
        "outputId": "c71e4cf5-4930-4e97-90ea-9b8eaee3d62f"
      },
      "execution_count": 8,
      "outputs": [
        {
          "output_type": "stream",
          "name": "stdout",
          "text": [
            "   study hours per week  class attendance %  previous exam score  \\\n",
            "0                    10                  90                   85   \n",
            "1                     5                  60                   70   \n",
            "2                    15                  95                   90   \n",
            "3                     2                  30                   50   \n",
            "4                    12                  85                   88   \n",
            "5                     8                  74                   65   \n",
            "6                    14                  92                   93   \n",
            "7                     3                  50                   55   \n",
            "8                    11                  88                   80   \n",
            "9                     6                  65                   60   \n",
            "\n",
            "   participation in group study  subission of assignments  \n",
            "0                             1                       100  \n",
            "1                             0                        80  \n",
            "2                             1                       100  \n",
            "3                             0                        40  \n",
            "4                             1                        90  \n",
            "5                             0                        70  \n",
            "6                             1                        95  \n",
            "7                             0                        60  \n",
            "8                             1                        85  \n",
            "9                             0                        75  \n"
          ]
        }
      ]
    },
    {
      "cell_type": "code",
      "source": [
        "w0,w1,w2,w3,w4,w5,x0=1,2,0.5,1,2,1,1"
      ],
      "metadata": {
        "id": "m7R0rWK4hoKW"
      },
      "execution_count": 12,
      "outputs": []
    },
    {
      "cell_type": "code",
      "source": [
        "z=w0*x0+w1*df['study hours per week']+w2*df['class attendance %']+w3*df['previous exam score']+w4*df['participation in group study']+w5*df['subission of assignments']"
      ],
      "metadata": {
        "id": "vUhhKWu2jzC0"
      },
      "execution_count": 14,
      "outputs": []
    },
    {
      "cell_type": "code",
      "source": [
        "yp=[]\n",
        "for i in range(0,9):\n",
        "  if z[i]>0:\n",
        "    yp.append(1)\n",
        "else:\n",
        "    yp.append(0)\n",
        "    print(yp)"
      ],
      "metadata": {
        "colab": {
          "base_uri": "https://localhost:8080/"
        },
        "id": "2A8xNSr0e1lP",
        "outputId": "9a4b6aa6-ce6a-4f2a-e1dd-d796b413f352"
      },
      "execution_count": 27,
      "outputs": [
        {
          "output_type": "stream",
          "name": "stdout",
          "text": [
            "[1, 1, 1, 1, 1, 1, 1, 1, 1, 0]\n"
          ]
        }
      ]
    },
    {
      "cell_type": "code",
      "source": [
        "e=t-yp\n",
        "print(e)"
      ],
      "metadata": {
        "colab": {
          "base_uri": "https://localhost:8080/"
        },
        "id": "T2_VUmmzlUMQ",
        "outputId": "1fac7e83-5195-498c-feda-54a56ce4bb1a"
      },
      "execution_count": 28,
      "outputs": [
        {
          "output_type": "stream",
          "name": "stdout",
          "text": [
            "0    0\n",
            "1   -1\n",
            "2    0\n",
            "3   -1\n",
            "4    0\n",
            "5   -1\n",
            "6    0\n",
            "7   -1\n",
            "8    0\n",
            "9    0\n",
            "Name: pass or fail, dtype: int64\n"
          ]
        }
      ]
    },
    {
      "cell_type": "code",
      "source": [
        "import math\n",
        "mean_square_error=(e*e).sum()/9\n",
        "print(mean_square_error)\n",
        "mean_error=(e).sum()/9\n",
        "print(mean_error)"
      ],
      "metadata": {
        "colab": {
          "base_uri": "https://localhost:8080/"
        },
        "id": "WGiGzBjdlxkI",
        "outputId": "97301d60-d281-4460-830c-11c55071a670"
      },
      "execution_count": 42,
      "outputs": [
        {
          "output_type": "stream",
          "name": "stdout",
          "text": [
            "0.4444444444444444\n",
            "-0.4444444444444444\n"
          ]
        }
      ]
    },
    {
      "cell_type": "code",
      "source": [
        "wnew=w0+1*mean_error*x0\n",
        "wnew1=w1+1*mean_error*df[\"study hours per week\"].sum()/9\n",
        "wnew2=w2+1*mean_error*df[\"class attendance %\"].sum()/9\n",
        "wnew3=w3+1*mean_error*df[\"previous exam score\"].sum()/9\n",
        "wnew4=w4+1*mean_error*df[\"participation in group study\"].sum()/9\n",
        "wnew5=w5+1*mean_error*df[\"subission of assignments\"].sum()/9\n",
        "print(wnew)\n",
        "print(wnew1)\n",
        "print(wnew2)\n",
        "print(wnew3)\n",
        "print(wnew4)\n",
        "print(wnew5)\n"
      ],
      "metadata": {
        "colab": {
          "base_uri": "https://localhost:8080/"
        },
        "id": "Hp-i7yiBmWDz",
        "outputId": "6b764135-e801-4b62-af51-0931f2f58778"
      },
      "execution_count": 44,
      "outputs": [
        {
          "output_type": "stream",
          "name": "stdout",
          "text": [
            "0.5555555555555556\n",
            "-2.246913580246914\n",
            "-35.5\n",
            "-35.34567901234568\n",
            "1.7530864197530864\n",
            "-38.25925925925926\n"
          ]
        }
      ]
    },
    {
      "cell_type": "code",
      "source": [],
      "metadata": {
        "id": "IeRGFL28oD1W"
      },
      "execution_count": null,
      "outputs": []
    }
  ]
}