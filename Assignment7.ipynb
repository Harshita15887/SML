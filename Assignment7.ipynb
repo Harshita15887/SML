{
  "nbformat": 4,
  "nbformat_minor": 0,
  "metadata": {
    "colab": {
      "provenance": [],
      "authorship_tag": "ABX9TyM2sFKIVpnJqjoRKJJNpHuk",
      "include_colab_link": true
    },
    "kernelspec": {
      "name": "python3",
      "display_name": "Python 3"
    },
    "language_info": {
      "name": "python"
    }
  },
  "cells": [
    {
      "cell_type": "markdown",
      "metadata": {
        "id": "view-in-github",
        "colab_type": "text"
      },
      "source": [
        "<a href=\"https://colab.research.google.com/github/Harshita15887/SML/blob/main/Assignment7.ipynb\" target=\"_parent\"><img src=\"https://colab.research.google.com/assets/colab-badge.svg\" alt=\"Open In Colab\"/></a>"
      ]
    },
    {
      "cell_type": "code",
      "execution_count": 1,
      "metadata": {
        "id": "sB-31hHpp_sW"
      },
      "outputs": [],
      "source": [
        "\n",
        "\n",
        "import pandas as pd"
      ]
    },
    {
      "cell_type": "code",
      "source": [
        "df=pd.read_csv('/content/Salary_Data (4).csv')"
      ],
      "metadata": {
        "id": "1wrREa07qOud"
      },
      "execution_count": 3,
      "outputs": []
    },
    {
      "cell_type": "code",
      "source": [
        "print(df)"
      ],
      "metadata": {
        "colab": {
          "base_uri": "https://localhost:8080/"
        },
        "id": "TBNQZsjVqbRf",
        "outputId": "287b5eb7-6761-48ac-8f9a-4fcd817f8745"
      },
      "execution_count": 4,
      "outputs": [
        {
          "output_type": "stream",
          "name": "stdout",
          "text": [
            "    YearsExperience    Salary\n",
            "0               1.1   39343.0\n",
            "1               1.3   46205.0\n",
            "2               1.5   37731.0\n",
            "3               2.0   43525.0\n",
            "4               2.2   39891.0\n",
            "5               2.9   56642.0\n",
            "6               3.0   60150.0\n",
            "7               3.2   54445.0\n",
            "8               3.2   64445.0\n",
            "9               3.7   57189.0\n",
            "10              3.9   63218.0\n",
            "11              4.0   55794.0\n",
            "12              4.0   56957.0\n",
            "13              4.1   57081.0\n",
            "14              4.5   61111.0\n",
            "15              4.9   67938.0\n",
            "16              5.1   66029.0\n",
            "17              5.3   83088.0\n",
            "18              5.9   81363.0\n",
            "19              6.0   93940.0\n",
            "20              6.8   91738.0\n",
            "21              7.1   98273.0\n",
            "22              7.9  101302.0\n",
            "23              8.2  113812.0\n",
            "24              8.7  109431.0\n",
            "25              9.0  105582.0\n",
            "26              9.5  116969.0\n",
            "27              9.6  112635.0\n",
            "28             10.3  122391.0\n",
            "29             10.5  121872.0\n"
          ]
        }
      ]
    },
    {
      "cell_type": "code",
      "source": [
        "y=df['Salary']"
      ],
      "metadata": {
        "id": "lOT0sETzqlCZ"
      },
      "execution_count": 5,
      "outputs": []
    },
    {
      "cell_type": "code",
      "source": [
        "print(y)"
      ],
      "metadata": {
        "id": "LgehTjBvrVx3",
        "outputId": "5a807d4b-3fed-4933-89b2-f080d6b3a6eb",
        "colab": {
          "base_uri": "https://localhost:8080/"
        }
      },
      "execution_count": 6,
      "outputs": [
        {
          "output_type": "stream",
          "name": "stdout",
          "text": [
            "0      39343.0\n",
            "1      46205.0\n",
            "2      37731.0\n",
            "3      43525.0\n",
            "4      39891.0\n",
            "5      56642.0\n",
            "6      60150.0\n",
            "7      54445.0\n",
            "8      64445.0\n",
            "9      57189.0\n",
            "10     63218.0\n",
            "11     55794.0\n",
            "12     56957.0\n",
            "13     57081.0\n",
            "14     61111.0\n",
            "15     67938.0\n",
            "16     66029.0\n",
            "17     83088.0\n",
            "18     81363.0\n",
            "19     93940.0\n",
            "20     91738.0\n",
            "21     98273.0\n",
            "22    101302.0\n",
            "23    113812.0\n",
            "24    109431.0\n",
            "25    105582.0\n",
            "26    116969.0\n",
            "27    112635.0\n",
            "28    122391.0\n",
            "29    121872.0\n",
            "Name: Salary, dtype: float64\n"
          ]
        }
      ]
    },
    {
      "cell_type": "code",
      "source": [
        "x=df.drop('Salary',axis=1)"
      ],
      "metadata": {
        "id": "OjLqK9KBqqXE"
      },
      "execution_count": 7,
      "outputs": []
    },
    {
      "cell_type": "code",
      "source": [
        "print(x)"
      ],
      "metadata": {
        "id": "wTW0JdZWq7Dr",
        "outputId": "452550d7-5b13-484f-c060-f970ed56c6de",
        "colab": {
          "base_uri": "https://localhost:8080/"
        }
      },
      "execution_count": 8,
      "outputs": [
        {
          "output_type": "stream",
          "name": "stdout",
          "text": [
            "    YearsExperience\n",
            "0               1.1\n",
            "1               1.3\n",
            "2               1.5\n",
            "3               2.0\n",
            "4               2.2\n",
            "5               2.9\n",
            "6               3.0\n",
            "7               3.2\n",
            "8               3.2\n",
            "9               3.7\n",
            "10              3.9\n",
            "11              4.0\n",
            "12              4.0\n",
            "13              4.1\n",
            "14              4.5\n",
            "15              4.9\n",
            "16              5.1\n",
            "17              5.3\n",
            "18              5.9\n",
            "19              6.0\n",
            "20              6.8\n",
            "21              7.1\n",
            "22              7.9\n",
            "23              8.2\n",
            "24              8.7\n",
            "25              9.0\n",
            "26              9.5\n",
            "27              9.6\n",
            "28             10.3\n",
            "29             10.5\n"
          ]
        }
      ]
    },
    {
      "cell_type": "code",
      "source": [
        "import matplotlib.pyplot as plt"
      ],
      "metadata": {
        "id": "PyuhpAEvq9Uw"
      },
      "execution_count": 9,
      "outputs": []
    },
    {
      "cell_type": "code",
      "source": [
        "plt.plot(x,y)"
      ],
      "metadata": {
        "id": "WEaP_UPzrI09",
        "outputId": "405d9839-6802-4f75-fe86-d3b5ca3256c3",
        "colab": {
          "base_uri": "https://localhost:8080/",
          "height": 447
        }
      },
      "execution_count": 10,
      "outputs": [
        {
          "output_type": "execute_result",
          "data": {
            "text/plain": [
              "[<matplotlib.lines.Line2D at 0x7ec9df1720e0>]"
            ]
          },
          "metadata": {},
          "execution_count": 10
        },
        {
          "output_type": "display_data",
          "data": {
            "text/plain": [
              "<Figure size 640x480 with 1 Axes>"
            ],
            "image/png": "[encoded data removed]"
          },
          "metadata": {}
        }
      ]
    },
    {
      "cell_type": "code",
      "source": [
        "plt.xlabel('x-axis')\n",
        "plt.ylabel('y-axis')"
      ],
      "metadata": {
        "id": "hwauSs5ErN35",
        "outputId": "9fdd97cd-e394-422b-cea2-07b75e76e849",
        "colab": {
          "base_uri": "https://localhost:8080/",
          "height": 472
        }
      },
      "execution_count": 11,
      "outputs": [
        {
          "output_type": "execute_result",
          "data": {
            "text/plain": [
              "Text(0, 0.5, 'y-axis')"
            ]
          },
          "metadata": {},
          "execution_count": 11
        },
        {
          "output_type": "display_data",
          "data": {
            "text/plain": [
              "<Figure size 640x480 with 1 Axes>"
            ],
            "image/png": "[encoded data removed]"
          },
          "metadata": {}
        }
      ]
    },
    {
      "cell_type": "code",
      "source": [
        "plt.title('Salary')"
      ],
      "metadata": {
        "id": "H1AWt3BRrn5v",
        "outputId": "57ebf73f-0d71-4bd0-e522-d8e7b69b3d45",
        "colab": {
          "base_uri": "https://localhost:8080/",
          "height": 469
        }
      },
      "execution_count": 12,
      "outputs": [
        {
          "output_type": "execute_result",
          "data": {
            "text/plain": [
              "Text(0.5, 1.0, 'Salary')"
            ]
          },
          "metadata": {},
          "execution_count": 12
        },
        {
          "output_type": "display_data",
          "data": {
            "text/plain": [
              "<Figure size 640x480 with 1 Axes>"
            ],
            "image/png": "[encoded data removed]"
          },
          "metadata": {}
        }
      ]
    },
    {
      "cell_type": "code",
      "source": [
        "plt.show()"
      ],
      "metadata": {
        "id": "SqmMHSp9r68e"
      },
      "execution_count": 13,
      "outputs": []
    },
    {
      "cell_type": "code",
      "source": [
        "w0,w1,x0=1,1,1"
      ],
      "metadata": {
        "id": "kyhl3V6ZsBjt"
      },
      "execution_count": 14,
      "outputs": []
    },
    {
      "cell_type": "code",
      "source": [
        "yp=w0*x0+w1*df['YearsExperience']"
      ],
      "metadata": {
        "id": "rQiqwAYVsJ_j"
      },
      "execution_count": 15,
      "outputs": []
    },
    {
      "cell_type": "code",
      "source": [
        "print(yp)"
      ],
      "metadata": {
        "id": "gPn3Ol9zs7EA",
        "outputId": "946b7876-8239-46b1-aa65-59420c230e39",
        "colab": {
          "base_uri": "https://localhost:8080/"
        }
      },
      "execution_count": 16,
      "outputs": [
        {
          "output_type": "stream",
          "name": "stdout",
          "text": [
            "0      2.1\n",
            "1      2.3\n",
            "2      2.5\n",
            "3      3.0\n",
            "4      3.2\n",
            "5      3.9\n",
            "6      4.0\n",
            "7      4.2\n",
            "8      4.2\n",
            "9      4.7\n",
            "10     4.9\n",
            "11     5.0\n",
            "12     5.0\n",
            "13     5.1\n",
            "14     5.5\n",
            "15     5.9\n",
            "16     6.1\n",
            "17     6.3\n",
            "18     6.9\n",
            "19     7.0\n",
            "20     7.8\n",
            "21     8.1\n",
            "22     8.9\n",
            "23     9.2\n",
            "24     9.7\n",
            "25    10.0\n",
            "26    10.5\n",
            "27    10.6\n",
            "28    11.3\n",
            "29    11.5\n",
            "Name: YearsExperience, dtype: float64\n"
          ]
        }
      ]
    },
    {
      "cell_type": "code",
      "source": [
        "error=y-yp\n",
        "\n",
        "print(error)"
      ],
      "metadata": {
        "id": "ZV3USFE8sbFy",
        "outputId": "28eef0c8-1f4e-4ca2-824c-48c5166e42d8",
        "colab": {
          "base_uri": "https://localhost:8080/"
        }
      },
      "execution_count": 17,
      "outputs": [
        {
          "output_type": "stream",
          "name": "stdout",
          "text": [
            "0      39340.9\n",
            "1      46202.7\n",
            "2      37728.5\n",
            "3      43522.0\n",
            "4      39887.8\n",
            "5      56638.1\n",
            "6      60146.0\n",
            "7      54440.8\n",
            "8      64440.8\n",
            "9      57184.3\n",
            "10     63213.1\n",
            "11     55789.0\n",
            "12     56952.0\n",
            "13     57075.9\n",
            "14     61105.5\n",
            "15     67932.1\n",
            "16     66022.9\n",
            "17     83081.7\n",
            "18     81356.1\n",
            "19     93933.0\n",
            "20     91730.2\n",
            "21     98264.9\n",
            "22    101293.1\n",
            "23    113802.8\n",
            "24    109421.3\n",
            "25    105572.0\n",
            "26    116958.5\n",
            "27    112624.4\n",
            "28    122379.7\n",
            "29    121860.5\n",
            "dtype: float64\n"
          ]
        }
      ]
    },
    {
      "cell_type": "code",
      "source": [
        "Mean_sqaure_Error=(error*error).sum()/len(error)"
      ],
      "metadata": {
        "id": "Ixn9RsqQseQZ"
      },
      "execution_count": 18,
      "outputs": []
    },
    {
      "cell_type": "code",
      "source": [
        "print(Mean_sqaure_Error)"
      ],
      "metadata": {
        "id": "v3vtbdrCsi0f",
        "outputId": "176e9235-30b7-4954-ace5-77c8da60b4b6",
        "colab": {
          "base_uri": "https://localhost:8080/"
        }
      },
      "execution_count": 19,
      "outputs": [
        {
          "output_type": "stream",
          "name": "stdout",
          "text": [
            "6501848514.976666\n"
          ]
        }
      ]
    },
    {
      "cell_type": "code",
      "source": [
        "wnew0,wnew1=w0-2*0.001*(error.sum()/len(error))*x0,w1-2*0.001*sum(error)*df['YearsExperience'].sum()/len(df['YearsExperience'])"
      ],
      "metadata": {
        "id": "2YEspi_9tbj2"
      },
      "execution_count": 20,
      "outputs": []
    },
    {
      "cell_type": "code",
      "source": [
        "print(wnew0)"
      ],
      "metadata": {
        "id": "91XqqzdssmsZ",
        "outputId": "8345b433-2970-4793-f5e2-eac9976e5e2f",
        "colab": {
          "base_uri": "https://localhost:8080/"
        }
      },
      "execution_count": 21,
      "outputs": [
        {
          "output_type": "stream",
          "name": "stdout",
          "text": [
            "-150.99337333333335\n"
          ]
        }
      ]
    },
    {
      "cell_type": "code",
      "source": [
        "print(wnew1)"
      ],
      "metadata": {
        "id": "NAVlZctkuu0c",
        "outputId": "3efa79ad-a4af-4d2a-dbc6-f70f134592e8",
        "colab": {
          "base_uri": "https://localhost:8080/"
        }
      },
      "execution_count": 22,
      "outputs": [
        {
          "output_type": "stream",
          "name": "stdout",
          "text": [
            "-24226.743709333336\n"
          ]
        }
      ]
    },
    {
      "cell_type": "code",
      "source": [
        "yp=wnew0*x0+wnew1*df['YearsExperience']"
      ],
      "metadata": {
        "id": "LSI4ma_5uwcu"
      },
      "execution_count": 23,
      "outputs": []
    },
    {
      "cell_type": "code",
      "source": [
        "print(yp)"
      ],
      "metadata": {
        "id": "u3zFPWvpwx6v",
        "outputId": "30efa1ce-27af-49b5-f1d9-6c53f7fbe0a8",
        "colab": {
          "base_uri": "https://localhost:8080/"
        }
      },
      "execution_count": 24,
      "outputs": [
        {
          "output_type": "stream",
          "name": "stdout",
          "text": [
            "0     -26800.411454\n",
            "1     -31645.760195\n",
            "2     -36491.108937\n",
            "3     -48604.480792\n",
            "4     -53449.829534\n",
            "5     -70408.550130\n",
            "6     -72831.224501\n",
            "7     -77676.573243\n",
            "8     -77676.573243\n",
            "9     -89789.945098\n",
            "10    -94635.293840\n",
            "11    -97057.968211\n",
            "12    -97057.968211\n",
            "13    -99480.642582\n",
            "14   -109171.340065\n",
            "15   -118862.037549\n",
            "16   -123707.386291\n",
            "17   -128552.735033\n",
            "18   -143088.781258\n",
            "19   -145511.455629\n",
            "20   -164892.850597\n",
            "21   -172160.873710\n",
            "22   -191542.268677\n",
            "23   -198810.291790\n",
            "24   -210923.663645\n",
            "25   -218191.686757\n",
            "26   -230305.058612\n",
            "27   -232727.732983\n",
            "28   -249686.453579\n",
            "29   -254531.802321\n",
            "Name: YearsExperience, dtype: float64\n"
          ]
        }
      ]
    },
    {
      "cell_type": "code",
      "source": [
        "error=y-yp\n",
        "print(error)"
      ],
      "metadata": {
        "id": "2HNt-XWTwy72",
        "outputId": "174bbc63-7c29-42d4-ad3b-4168802daf66",
        "colab": {
          "base_uri": "https://localhost:8080/"
        }
      },
      "execution_count": 25,
      "outputs": [
        {
          "output_type": "stream",
          "name": "stdout",
          "text": [
            "0      66143.411454\n",
            "1      77850.760195\n",
            "2      74222.108937\n",
            "3      92129.480792\n",
            "4      93340.829534\n",
            "5     127050.550130\n",
            "6     132981.224501\n",
            "7     132121.573243\n",
            "8     142121.573243\n",
            "9     146978.945098\n",
            "10    157853.293840\n",
            "11    152851.968211\n",
            "12    154014.968211\n",
            "13    156561.642582\n",
            "14    170282.340065\n",
            "15    186800.037549\n",
            "16    189736.386291\n",
            "17    211640.735033\n",
            "18    224451.781258\n",
            "19    239451.455629\n",
            "20    256630.850597\n",
            "21    270433.873710\n",
            "22    292844.268677\n",
            "23    312622.291790\n",
            "24    320354.663645\n",
            "25    323773.686757\n",
            "26    347274.058612\n",
            "27    345362.732983\n",
            "28    372077.453579\n",
            "29    376403.802321\n",
            "dtype: float64\n"
          ]
        }
      ]
    },
    {
      "cell_type": "code",
      "source": [
        "Mean_Square_error=(error**2).sum()/len(error)\n"
      ],
      "metadata": {
        "id": "hnqg1i8yxbmP"
      },
      "execution_count": 26,
      "outputs": []
    },
    {
      "cell_type": "code",
      "source": [
        "print(Mean_Square_error)\n",
        "\n",
        "\n"
      ],
      "metadata": {
        "id": "dDDelNetDtp8",
        "outputId": "38ae8930-867e-4fcc-b5a8-11cd82094727",
        "colab": {
          "base_uri": "https://localhost:8080/"
        }
      },
      "execution_count": 27,
      "outputs": [
        {
          "output_type": "stream",
          "name": "stdout",
          "text": [
            "50835881284.6711\n"
          ]
        }
      ]
    }
  ]
}