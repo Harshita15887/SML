{
  "nbformat": 4,
  "nbformat_minor": 0,
  "metadata": {
    "colab": {
      "provenance": [],
      "authorship_tag": "ABX9TyMloH2WQYi8uHGapwmyqStt",
      "include_colab_link": true
    },
    "kernelspec": {
      "name": "python3",
      "display_name": "Python 3"
    },
    "language_info": {
      "name": "python"
    }
  },
  "cells": [
    {
      "cell_type": "markdown",
      "metadata": {
        "id": "view-in-github",
        "colab_type": "text"
      },
      "source": [
        "<a href=\"https://colab.research.google.com/github/Harshita15887/SML/blob/main/Assignment7%2C2.ipynb\" target=\"_parent\"><img src=\"https://colab.research.google.com/assets/colab-badge.svg\" alt=\"Open In Colab\"/></a>"
      ]
    },
    {
      "cell_type": "code",
      "execution_count": 1,
      "metadata": {
        "id": "o3NSivyJRdtF"
      },
      "outputs": [],
      "source": [
        "import pandas as pd"
      ]
    },
    {
      "cell_type": "code",
      "source": [
        "df=pd.read_csv('/content/book2.csv')"
      ],
      "metadata": {
        "id": "ed4bzGqhRqgK"
      },
      "execution_count": 2,
      "outputs": []
    },
    {
      "cell_type": "code",
      "source": [
        "print(df)"
      ],
      "metadata": {
        "colab": {
          "base_uri": "https://localhost:8080/"
        },
        "id": "eEdv6SdVRy_D",
        "outputId": "6a82e9a3-fb5b-4465-91f6-61700c9413ee"
      },
      "execution_count": 3,
      "outputs": [
        {
          "output_type": "stream",
          "name": "stdout",
          "text": [
            "   Feature 1  Feature 2  Feature 3  Feature 4  Target (Y)\n",
            "0        1.2        2.3        3.1        4.2        15.6\n",
            "1        2.4        1.9        2.8        3.5        13.1\n",
            "2        3.5        2.7        1.5        2.9        12.4\n",
            "3        4.1        3.0        3.6        4.8        18.2\n",
            "4        1.9        2.8        2.5        3.2        14.1\n",
            "5        3.7        2.5        1.9        4.0        16.0\n",
            "6        2.1        3.2        2.2        4.1        14.5\n",
            "7        3.3        2.4        3.0        4.5        17.3\n",
            "8        2.8        3.1        1.8        3.6        14.9\n",
            "9        4.0        3.3        2.7        4.9        19.2\n"
          ]
        }
      ]
    },
    {
      "cell_type": "code",
      "source": [
        "y=df['Target (Y)']"
      ],
      "metadata": {
        "id": "e0_SgHOUR0M7"
      },
      "execution_count": 4,
      "outputs": []
    },
    {
      "cell_type": "code",
      "source": [
        "print(y)"
      ],
      "metadata": {
        "colab": {
          "base_uri": "https://localhost:8080/"
        },
        "id": "rfGQ4d9KR6ey",
        "outputId": "3290b2b0-04d4-4240-9194-c24e54bccfea"
      },
      "execution_count": 5,
      "outputs": [
        {
          "output_type": "stream",
          "name": "stdout",
          "text": [
            "0    15.6\n",
            "1    13.1\n",
            "2    12.4\n",
            "3    18.2\n",
            "4    14.1\n",
            "5    16.0\n",
            "6    14.5\n",
            "7    17.3\n",
            "8    14.9\n",
            "9    19.2\n",
            "Name: Target (Y), dtype: float64\n"
          ]
        }
      ]
    },
    {
      "cell_type": "code",
      "source": [
        "x=df.drop('Target (Y)',axis=1)"
      ],
      "metadata": {
        "id": "u9FVUPwUR7pV"
      },
      "execution_count": 7,
      "outputs": []
    },
    {
      "cell_type": "code",
      "source": [
        "print(x)"
      ],
      "metadata": {
        "colab": {
          "base_uri": "https://localhost:8080/"
        },
        "id": "0bJixc0KSDxt",
        "outputId": "b145ec4b-837a-4c31-aadf-2e6a1eef484c"
      },
      "execution_count": 8,
      "outputs": [
        {
          "output_type": "stream",
          "name": "stdout",
          "text": [
            "   Feature 1  Feature 2  Feature 3  Feature 4\n",
            "0        1.2        2.3        3.1        4.2\n",
            "1        2.4        1.9        2.8        3.5\n",
            "2        3.5        2.7        1.5        2.9\n",
            "3        4.1        3.0        3.6        4.8\n",
            "4        1.9        2.8        2.5        3.2\n",
            "5        3.7        2.5        1.9        4.0\n",
            "6        2.1        3.2        2.2        4.1\n",
            "7        3.3        2.4        3.0        4.5\n",
            "8        2.8        3.1        1.8        3.6\n",
            "9        4.0        3.3        2.7        4.9\n"
          ]
        }
      ]
    },
    {
      "cell_type": "code",
      "source": [
        "w0,w1,w2,w3,w4,x0=1,1,1,1,1,1"
      ],
      "metadata": {
        "id": "4VO0RACgSIaD"
      },
      "execution_count": 9,
      "outputs": []
    },
    {
      "cell_type": "code",
      "source": [
        "yp=w0*x0+w1*(df['Feature 1'])+w2*(df['Feature 2'])+w3*(df['Feature 3'])+w4*(df['Feature 4'])"
      ],
      "metadata": {
        "id": "b4h38VSVSUvx"
      },
      "execution_count": 15,
      "outputs": []
    },
    {
      "cell_type": "code",
      "source": [
        "print(yp)"
      ],
      "metadata": {
        "colab": {
          "base_uri": "https://localhost:8080/"
        },
        "id": "vQTjfn6aTFuR",
        "outputId": "481e2df9-6920-48e2-df9c-91fefa616581"
      },
      "execution_count": 16,
      "outputs": [
        {
          "output_type": "stream",
          "name": "stdout",
          "text": [
            "0    11.8\n",
            "1    11.6\n",
            "2    11.6\n",
            "3    16.5\n",
            "4    11.4\n",
            "5    13.1\n",
            "6    12.6\n",
            "7    14.2\n",
            "8    12.3\n",
            "9    15.9\n",
            "dtype: float64\n"
          ]
        }
      ]
    },
    {
      "cell_type": "code",
      "source": [
        "error=y-yp\n",
        "print(error)"
      ],
      "metadata": {
        "colab": {
          "base_uri": "https://localhost:8080/"
        },
        "id": "y4LgDSBYTHs4",
        "outputId": "1bf6f817-4a88-4c4c-8a54-4f146030c1ce"
      },
      "execution_count": 17,
      "outputs": [
        {
          "output_type": "stream",
          "name": "stdout",
          "text": [
            "0    3.8\n",
            "1    1.5\n",
            "2    0.8\n",
            "3    1.7\n",
            "4    2.7\n",
            "5    2.9\n",
            "6    1.9\n",
            "7    3.1\n",
            "8    2.6\n",
            "9    3.3\n",
            "dtype: float64\n"
          ]
        }
      ]
    },
    {
      "cell_type": "code",
      "source": [
        "Mean_Square_error=(error**2).sum()/len(error)"
      ],
      "metadata": {
        "id": "3ZDkQw9CTLPq"
      },
      "execution_count": 18,
      "outputs": []
    },
    {
      "cell_type": "code",
      "source": [
        "print(Mean_Square_error)"
      ],
      "metadata": {
        "colab": {
          "base_uri": "https://localhost:8080/"
        },
        "id": "k3NpnV0UTUUL",
        "outputId": "2aee63ef-2475-4f8d-8735-3cf8171a87f5"
      },
      "execution_count": 19,
      "outputs": [
        {
          "output_type": "stream",
          "name": "stdout",
          "text": [
            "6.678999999999999\n"
          ]
        }
      ]
    },
    {
      "cell_type": "code",
      "source": [
        "wn0=w0-2*0.001*(error).sum()/len(error)+1\n",
        "wn1=w1-2*0.001*(error).sum()/len(error)+(df['Feature 1'].sum()/len('Feature 1'))\n",
        "wn2=w1-2*0.001*(error).sum()/len(error)+(df['Feature 2'].sum()/len('Feature 2'))\n",
        "wn3=w2-2*0.001*(error).sum()/len(error)+(df['Feature 3'].sum()/len('Feature 3'))\n",
        "wn4=w4-2*0.001*(error).sum()/len(error)+(df['Feature 4'].sum()/len('Feature 4'))"
      ],
      "metadata": {
        "id": "d_X5GuBXTW3H"
      },
      "execution_count": 23,
      "outputs": []
    },
    {
      "cell_type": "code",
      "source": [
        "print(wn0)\n",
        "print(wn1)\n",
        "print(wn2)\n",
        "print(wn3)\n",
        "print(wn4)"
      ],
      "metadata": {
        "colab": {
          "base_uri": "https://localhost:8080/"
        },
        "id": "CLzobGhkUPWd",
        "outputId": "62d7e666-5c94-4451-c2a3-d9765a92f14b"
      },
      "execution_count": 24,
      "outputs": [
        {
          "output_type": "stream",
          "name": "stdout",
          "text": [
            "1.9951400000000001\n",
            "4.2173622222222225\n",
            "4.017362222222222\n",
            "3.7840288888888893\n",
            "5.406251111111111\n"
          ]
        }
      ]
    },
    {
      "cell_type": "code",
      "source": [
        "yp=wn0*x0+wn1*(df['Feature 1'])+wn2*(df['Feature 2'])+wn3*(df['Feature 3'])+wn4*(df['Feature 4'])"
      ],
      "metadata": {
        "id": "mtJ-brEFVb5G"
      },
      "execution_count": 25,
      "outputs": []
    },
    {
      "cell_type": "code",
      "source": [
        "print(yp)"
      ],
      "metadata": {
        "colab": {
          "base_uri": "https://localhost:8080/"
        },
        "id": "QdwgLS5lV24h",
        "outputId": "aa92284e-8626-4a84-fa94-486bb50c21f3"
      },
      "execution_count": 26,
      "outputs": [
        {
          "output_type": "stream",
          "name": "stdout",
          "text": [
            "0    50.732652\n",
            "1    49.266957\n",
            "2    48.956957\n",
            "3    70.910921\n",
            "4    48.016818\n",
            "5    56.457445\n",
            "6    54.197653\n",
            "7    61.234321\n",
            "8    52.531333\n",
            "9    68.829393\n",
            "dtype: float64\n"
          ]
        }
      ]
    },
    {
      "cell_type": "code",
      "source": [
        "error=(y-yp)\n",
        "print(error)"
      ],
      "metadata": {
        "colab": {
          "base_uri": "https://localhost:8080/"
        },
        "id": "DuczXCjAV4hF",
        "outputId": "0bc0c721-9899-4e5c-8e93-5580226edf69"
      },
      "execution_count": 27,
      "outputs": [
        {
          "output_type": "stream",
          "name": "stdout",
          "text": [
            "0   -35.132652\n",
            "1   -36.166957\n",
            "2   -36.556957\n",
            "3   -52.710921\n",
            "4   -33.916818\n",
            "5   -40.457445\n",
            "6   -39.697653\n",
            "7   -43.934321\n",
            "8   -37.631333\n",
            "9   -49.629393\n",
            "dtype: float64\n"
          ]
        }
      ]
    },
    {
      "cell_type": "code",
      "source": [
        "Mean_square_error=(error**2).sum()/len(error)"
      ],
      "metadata": {
        "id": "Plf5vExYV7e5"
      },
      "execution_count": 28,
      "outputs": []
    },
    {
      "cell_type": "code",
      "source": [
        "print(Mean_square_error)"
      ],
      "metadata": {
        "colab": {
          "base_uri": "https://localhost:8080/"
        },
        "id": "vLMOFcBrWBzR",
        "outputId": "a08ed09d-cf15-4e3e-d9f7-e691b47a67ba"
      },
      "execution_count": 30,
      "outputs": [
        {
          "output_type": "stream",
          "name": "stdout",
          "text": [
            "1682.9681880483913\n"
          ]
        }
      ]
    },
    {
      "cell_type": "code",
      "source": [],
      "metadata": {
        "id": "-QwX1nidWDw4"
      },
      "execution_count": null,
      "outputs": []
    }
  ]
}