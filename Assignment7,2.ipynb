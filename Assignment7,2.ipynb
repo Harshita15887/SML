{
  "nbformat": 4,
  "nbformat_minor": 0,
  "metadata": {
    "colab": {
      "provenance": [],
      "authorship_tag": "ABX9TyOEZxa6esrl6sa/HME3WLXD",
      "include_colab_link": true
    },
    "kernelspec": {
      "name": "python3",
      "display_name": "Python 3"
    },
    "language_info": {
      "name": "python"
    }
  },
  "cells": [
    {
      "cell_type": "markdown",
      "metadata": {
        "id": "view-in-github",
        "colab_type": "text"
      },
      "source": [
        "<a href=\"https://colab.research.google.com/github/Harshita15887/SML/blob/main/Assignment7%2C2.ipynb\" target=\"_parent\"><img src=\"https://colab.research.google.com/assets/colab-badge.svg\" alt=\"Open In Colab\"/></a>"
      ]
    },
    {
      "cell_type": "code",
      "execution_count": 1,
      "metadata": {
        "id": "o3NSivyJRdtF"
      },
      "outputs": [],
      "source": [
        "import pandas as pd"
      ]
    },
    {
      "cell_type": "code",
      "source": [
        "df=pd.read_csv('/content/book2.csv')"
      ],
      "metadata": {
        "id": "ed4bzGqhRqgK"
      },
      "execution_count": 2,
      "outputs": []
    },
    {
      "cell_type": "code",
      "source": [
        "print(df)"
      ],
      "metadata": {
        "colab": {
          "base_uri": "https://localhost:8080/"
        },
        "id": "eEdv6SdVRy_D",
        "outputId": "07c2d510-9bcc-4301-c46c-3019b39d60b0"
      },
      "execution_count": 3,
      "outputs": [
        {
          "output_type": "stream",
          "name": "stdout",
          "text": [
            "   Feature 1  Feature 2  Feature 3  Feature 4  Target (Y)\n",
            "0        1.2        2.3        3.1        4.2        15.6\n",
            "1        2.4        1.9        2.8        3.5        13.1\n",
            "2        3.5        2.7        1.5        2.9        12.4\n",
            "3        4.1        3.0        3.6        4.8        18.2\n",
            "4        1.9        2.8        2.5        3.2        14.1\n",
            "5        3.7        2.5        1.9        4.0        16.0\n",
            "6        2.1        3.2        2.2        4.1        14.5\n",
            "7        3.3        2.4        3.0        4.5        17.3\n",
            "8        2.8        3.1        1.8        3.6        14.9\n",
            "9        4.0        3.3        2.7        4.9        19.2\n"
          ]
        }
      ]
    },
    {
      "cell_type": "code",
      "source": [
        "y=df['Target (Y)']"
      ],
      "metadata": {
        "id": "e0_SgHOUR0M7"
      },
      "execution_count": 4,
      "outputs": []
    },
    {
      "cell_type": "code",
      "source": [
        "print(y)"
      ],
      "metadata": {
        "colab": {
          "base_uri": "https://localhost:8080/"
        },
        "id": "rfGQ4d9KR6ey",
        "outputId": "d33ea6a4-7df9-42e2-f55e-449c33df3836"
      },
      "execution_count": 5,
      "outputs": [
        {
          "output_type": "stream",
          "name": "stdout",
          "text": [
            "0    15.6\n",
            "1    13.1\n",
            "2    12.4\n",
            "3    18.2\n",
            "4    14.1\n",
            "5    16.0\n",
            "6    14.5\n",
            "7    17.3\n",
            "8    14.9\n",
            "9    19.2\n",
            "Name: Target (Y), dtype: float64\n"
          ]
        }
      ]
    },
    {
      "cell_type": "code",
      "source": [
        "x=df.drop('Target (Y)',axis=1)"
      ],
      "metadata": {
        "id": "u9FVUPwUR7pV"
      },
      "execution_count": 6,
      "outputs": []
    },
    {
      "cell_type": "code",
      "source": [
        "print(x)"
      ],
      "metadata": {
        "colab": {
          "base_uri": "https://localhost:8080/"
        },
        "id": "0bJixc0KSDxt",
        "outputId": "3fd4be4c-21ee-461e-db85-a3a5417eb93c"
      },
      "execution_count": 7,
      "outputs": [
        {
          "output_type": "stream",
          "name": "stdout",
          "text": [
            "   Feature 1  Feature 2  Feature 3  Feature 4\n",
            "0        1.2        2.3        3.1        4.2\n",
            "1        2.4        1.9        2.8        3.5\n",
            "2        3.5        2.7        1.5        2.9\n",
            "3        4.1        3.0        3.6        4.8\n",
            "4        1.9        2.8        2.5        3.2\n",
            "5        3.7        2.5        1.9        4.0\n",
            "6        2.1        3.2        2.2        4.1\n",
            "7        3.3        2.4        3.0        4.5\n",
            "8        2.8        3.1        1.8        3.6\n",
            "9        4.0        3.3        2.7        4.9\n"
          ]
        }
      ]
    },
    {
      "cell_type": "code",
      "source": [
        "w0,w1,w2,w3,w4,x0=1,1,1,1,1,1"
      ],
      "metadata": {
        "id": "4VO0RACgSIaD"
      },
      "execution_count": 8,
      "outputs": []
    },
    {
      "cell_type": "code",
      "source": [
        "yp=w0*x0+w1*(df['Feature 1'])+w2*(df['Feature 2'])+w3*(df['Feature 3'])+w4*(df['Feature 4'])"
      ],
      "metadata": {
        "id": "b4h38VSVSUvx"
      },
      "execution_count": 9,
      "outputs": []
    },
    {
      "cell_type": "code",
      "source": [
        "print(yp)"
      ],
      "metadata": {
        "colab": {
          "base_uri": "https://localhost:8080/"
        },
        "id": "vQTjfn6aTFuR",
        "outputId": "b7c2fd1c-98b7-4f89-de16-74c8c22a2d55"
      },
      "execution_count": 10,
      "outputs": [
        {
          "output_type": "stream",
          "name": "stdout",
          "text": [
            "0    11.8\n",
            "1    11.6\n",
            "2    11.6\n",
            "3    16.5\n",
            "4    11.4\n",
            "5    13.1\n",
            "6    12.6\n",
            "7    14.2\n",
            "8    12.3\n",
            "9    15.9\n",
            "dtype: float64\n"
          ]
        }
      ]
    },
    {
      "cell_type": "code",
      "source": [
        "error=y-yp\n",
        "print(error)"
      ],
      "metadata": {
        "colab": {
          "base_uri": "https://localhost:8080/"
        },
        "id": "y4LgDSBYTHs4",
        "outputId": "3f2548df-1f27-4c64-f7c4-15011ed2b79c"
      },
      "execution_count": 11,
      "outputs": [
        {
          "output_type": "stream",
          "name": "stdout",
          "text": [
            "0    3.8\n",
            "1    1.5\n",
            "2    0.8\n",
            "3    1.7\n",
            "4    2.7\n",
            "5    2.9\n",
            "6    1.9\n",
            "7    3.1\n",
            "8    2.6\n",
            "9    3.3\n",
            "dtype: float64\n"
          ]
        }
      ]
    },
    {
      "cell_type": "code",
      "source": [
        "Mean_Square_error=(error**2).sum()/len(error)"
      ],
      "metadata": {
        "id": "3ZDkQw9CTLPq"
      },
      "execution_count": 12,
      "outputs": []
    },
    {
      "cell_type": "code",
      "source": [
        "print(Mean_Square_error)"
      ],
      "metadata": {
        "colab": {
          "base_uri": "https://localhost:8080/"
        },
        "id": "k3NpnV0UTUUL",
        "outputId": "8ca50a2f-6ae7-4822-bba7-b44c1d0ba369"
      },
      "execution_count": 13,
      "outputs": [
        {
          "output_type": "stream",
          "name": "stdout",
          "text": [
            "6.678999999999999\n"
          ]
        }
      ]
    },
    {
      "cell_type": "code",
      "source": [
        "wn0=w0-2*0.001*(error.sum()/len(error))+1\n",
        "wn1=w1-2*0.001*(error).sum()/len(error)+(df['Feature 1'].sum()/len(df['Feature 1']))\n",
        "wn2=w2-2*0.001*(error).sum()/len(error)+(df['Feature 2'].sum()/len(df['Feature 2']))\n",
        "wn3=w3-2*0.001*(error).sum()/len(error)+(df['Feature 3'].sum()/len(df['Feature 3']))\n",
        "wn4=w4-2*0.001*(error).sum()/len(error)+(df['Feature 4'].sum()/len(df['Feature 4']))"
      ],
      "metadata": {
        "id": "d_X5GuBXTW3H"
      },
      "execution_count": 26,
      "outputs": []
    },
    {
      "cell_type": "code",
      "source": [
        "print(wn0)\n",
        "print(wn1)\n",
        "print(wn2)\n",
        "print(wn3)\n",
        "print(wn4)"
      ],
      "metadata": {
        "colab": {
          "base_uri": "https://localhost:8080/"
        },
        "id": "CLzobGhkUPWd",
        "outputId": "336426f5-073f-45f5-fb7b-0c7b10ae135c"
      },
      "execution_count": 27,
      "outputs": [
        {
          "output_type": "stream",
          "name": "stdout",
          "text": [
            "2.0811668902222222\n",
            "3.981166890222222\n",
            "3.801166890222222\n",
            "3.5911668902222225\n",
            "5.0511668902222215\n"
          ]
        }
      ]
    },
    {
      "cell_type": "code",
      "source": [
        "yp=wn0*x0+wn1*(df['Feature 1'])+wn2*(df['Feature 2'])+wn3*(df['Feature 3'])+wn4*(df['Feature 4'])"
      ],
      "metadata": {
        "id": "mtJ-brEFVb5G"
      },
      "execution_count": 28,
      "outputs": []
    },
    {
      "cell_type": "code",
      "source": [
        "print(yp)"
      ],
      "metadata": {
        "colab": {
          "base_uri": "https://localhost:8080/"
        },
        "id": "QdwgLS5lV24h",
        "outputId": "ae9173be-63d8-461a-a2d9-2372e6b77552"
      },
      "execution_count": 29,
      "outputs": [
        {
          "output_type": "stream",
          "name": "stdout",
          "text": [
            "0    47.948769\n",
            "1    46.592536\n",
            "2    46.313536\n",
            "3    66.981254\n",
            "4    45.430303\n",
            "5    53.342286\n",
            "6    51.215703\n",
            "7    57.845570\n",
            "8    49.660353\n",
            "9    64.996554\n",
            "dtype: float64\n"
          ]
        }
      ]
    },
    {
      "cell_type": "code",
      "source": [
        "error=(y-yp)\n",
        "print(error)"
      ],
      "metadata": {
        "colab": {
          "base_uri": "https://localhost:8080/"
        },
        "id": "DuczXCjAV4hF",
        "outputId": "2df86913-4a86-4376-90a4-8f8b7ac1923e"
      },
      "execution_count": 30,
      "outputs": [
        {
          "output_type": "stream",
          "name": "stdout",
          "text": [
            "0   -32.348769\n",
            "1   -33.492536\n",
            "2   -33.913536\n",
            "3   -48.781254\n",
            "4   -31.330303\n",
            "5   -37.342286\n",
            "6   -36.715703\n",
            "7   -40.545570\n",
            "8   -34.760353\n",
            "9   -45.796554\n",
            "dtype: float64\n"
          ]
        }
      ]
    },
    {
      "cell_type": "code",
      "source": [
        "Mean_square_error=(error**2).sum()/len(error)"
      ],
      "metadata": {
        "id": "Plf5vExYV7e5"
      },
      "execution_count": 31,
      "outputs": []
    },
    {
      "cell_type": "code",
      "source": [
        "print(Mean_square_error)"
      ],
      "metadata": {
        "colab": {
          "base_uri": "https://localhost:8080/"
        },
        "id": "vLMOFcBrWBzR",
        "outputId": "84ac9119-07b8-460b-f136-06e53e98f49b"
      },
      "execution_count": 32,
      "outputs": [
        {
          "output_type": "stream",
          "name": "stdout",
          "text": [
            "1437.1558177681986\n"
          ]
        }
      ]
    },
    {
      "cell_type": "code",
      "source": [],
      "metadata": {
        "id": "-QwX1nidWDw4"
      },
      "execution_count": null,
      "outputs": []
    }
  ]
}