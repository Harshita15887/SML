{
  "metadata": {
    "kernelspec": {
      "language": "python",
      "display_name": "Python 3",
      "name": "python3"
    },
    "language_info": {
      "name": "python",
      "version": "3.10.14",
      "mimetype": "text/x-python",
      "codemirror_mode": {
        "name": "ipython",
        "version": 3
      },
      "pygments_lexer": "ipython3",
      "nbconvert_exporter": "python",
      "file_extension": ".py"
    },
    "kaggle": {
      "accelerator": "none",
      "dataSources": [
        {
          "sourceId": 9789135,
          "sourceType": "datasetVersion",
          "datasetId": 5998166
        }
      ],
      "dockerImageVersionId": 30786,
      "isInternetEnabled": true,
      "language": "python",
      "sourceType": "notebook",
      "isGpuEnabled": false
    },
    "colab": {
      "name": "notebook532725a872",
      "provenance": [],
      "include_colab_link": true
    }
  },
  "nbformat_minor": 0,
  "nbformat": 4,
  "cells": [
    {
      "cell_type": "markdown",
      "metadata": {
        "id": "view-in-github",
        "colab_type": "text"
      },
      "source": [
        "<a href=\"https://colab.research.google.com/github/Harshita15887/SML/blob/main/kaggle2.ipynb\" target=\"_parent\"><img src=\"https://colab.research.google.com/assets/colab-badge.svg\" alt=\"Open In Colab\"/></a>"
      ]
    },
    {
      "source": [
        "# IMPORTANT: RUN THIS CELL IN ORDER TO IMPORT YOUR KAGGLE DATA SOURCES,\n",
        "# THEN FEEL FREE TO DELETE THIS CELL.\n",
        "# NOTE: THIS NOTEBOOK ENVIRONMENT DIFFERS FROM KAGGLE'S PYTHON\n",
        "# ENVIRONMENT SO THERE MAY BE MISSING LIBRARIES USED BY YOUR\n",
        "# NOTEBOOK.\n",
        "import kagglehub\n",
        "anupojuharshita_salary_data1_csv_path = kagglehub.dataset_download('anupojuharshita/salary-data1-csv')\n",
        "\n",
        "print('Data source import complete.')\n"
      ],
      "metadata": {
        "id": "DdCFyOQuyVn9"
      },
      "cell_type": "code",
      "outputs": [],
      "execution_count": null
    },
    {
      "cell_type": "code",
      "source": [
        "# This Python 3 environment comes with many helpful analytics libraries installed\n",
        "# It is defined by the kaggle/python Docker image: https://github.com/kaggle/docker-python\n",
        "# For example, here's several helpful packages to load\n",
        "\n",
        "import numpy as np # linear algebra\n",
        "import pandas as pd # data processing, CSV file I/O (e.g. pd.read_csv)\n",
        "\n",
        "# Input data files are available in the read-only \"../input/\" directory\n",
        "# For example, running this (by clicking run or pressing Shift+Enter) will list all files under the input directory\n",
        "\n",
        "import os\n",
        "for dirname, _, filenames in os.walk('/kaggle/input'):\n",
        "    for filename in filenames:\n",
        "        print(os.path.join(dirname, filename))\n",
        "\n",
        "# You can write up to 20GB to the current directory (/kaggle/working/) that gets preserved as output when you create a version using \"Save & Run All\"\n",
        "# You can also write temporary files to /kaggle/temp/, but they won't be saved outside of the current session"
      ],
      "metadata": {
        "_uuid": "8f2839f25d086af736a60e9eeb907d3b93b6e0e5",
        "_cell_guid": "b1076dfc-b9ad-4769-8c92-a6c4dae69d19",
        "trusted": true,
        "id": "peQlw45ryVoC"
      },
      "outputs": [],
      "execution_count": null
    },
    {
      "cell_type": "code",
      "source": [
        "import pandas as pd\n",
        "import numpy as np\n",
        "from sklearn.model_selection import train_test_split\n",
        "from sklearn.linear_model import LinearRegression\n",
        "from sklearn.metrics import mean_absolute_error\n",
        "import matplotlib.pyplot as plt\n"
      ],
      "metadata": {
        "trusted": true,
        "execution": {
          "iopub.status.busy": "2024-11-02T16:15:46.980453Z",
          "iopub.execute_input": "2024-11-02T16:15:46.980893Z",
          "iopub.status.idle": "2024-11-02T16:15:47.975083Z",
          "shell.execute_reply.started": "2024-11-02T16:15:46.980852Z",
          "shell.execute_reply": "2024-11-02T16:15:47.973577Z"
        },
        "id": "79gKfK8lyVoE"
      },
      "outputs": [],
      "execution_count": null
    },
    {
      "cell_type": "code",
      "source": [
        "df = pd.read_csv('/kaggle/input/salary-data1-csv/Salary_Data (1).csv')\n",
        "print(\"First few rows of the dataset:\")\n",
        "print(data.head())\n"
      ],
      "metadata": {
        "trusted": true,
        "execution": {
          "iopub.status.busy": "2024-11-02T16:41:22.109776Z",
          "iopub.execute_input": "2024-11-02T16:41:22.110225Z",
          "iopub.status.idle": "2024-11-02T16:41:22.121725Z",
          "shell.execute_reply.started": "2024-11-02T16:41:22.110179Z",
          "shell.execute_reply": "2024-11-02T16:41:22.120252Z"
        },
        "id": "Y6Qyc29pyVoF"
      },
      "outputs": [],
      "execution_count": null
    },
    {
      "cell_type": "code",
      "source": [
        "df=df.fillna(0)\n",
        "print(df)"
      ],
      "metadata": {
        "trusted": true,
        "execution": {
          "iopub.status.busy": "2024-11-02T16:41:28.114039Z",
          "iopub.execute_input": "2024-11-02T16:41:28.114487Z",
          "iopub.status.idle": "2024-11-02T16:41:28.125839Z",
          "shell.execute_reply.started": "2024-11-02T16:41:28.114443Z",
          "shell.execute_reply": "2024-11-02T16:41:28.12449Z"
        },
        "id": "k8SbNkewyVoF"
      },
      "outputs": [],
      "execution_count": null
    },
    {
      "cell_type": "code",
      "source": [
        "target=df['Salary']\n",
        "print(target)"
      ],
      "metadata": {
        "trusted": true,
        "execution": {
          "iopub.status.busy": "2024-11-02T16:17:01.314877Z",
          "iopub.execute_input": "2024-11-02T16:17:01.31802Z",
          "iopub.status.idle": "2024-11-02T16:17:01.334876Z",
          "shell.execute_reply.started": "2024-11-02T16:17:01.317827Z",
          "shell.execute_reply": "2024-11-02T16:17:01.332182Z"
        },
        "id": "RNybGX_MyVoF"
      },
      "outputs": [],
      "execution_count": null
    },
    {
      "cell_type": "code",
      "source": [
        "feature=df.drop('Salary',axis=1)\n",
        "print(feature)"
      ],
      "metadata": {
        "trusted": true,
        "execution": {
          "iopub.status.busy": "2024-11-02T16:18:08.711338Z",
          "iopub.execute_input": "2024-11-02T16:18:08.712148Z",
          "iopub.status.idle": "2024-11-02T16:18:08.723455Z",
          "shell.execute_reply.started": "2024-11-02T16:18:08.712093Z",
          "shell.execute_reply": "2024-11-02T16:18:08.72186Z"
        },
        "id": "dhdK7Gk2yVoG"
      },
      "outputs": [],
      "execution_count": null
    },
    {
      "cell_type": "code",
      "source": [
        "feature_train, feature_test, target_train, target_test = train_test_split(feature, target, test_size=0.2, random_state=42)"
      ],
      "metadata": {
        "trusted": true,
        "execution": {
          "iopub.status.busy": "2024-11-02T16:18:53.288906Z",
          "iopub.execute_input": "2024-11-02T16:18:53.28947Z",
          "iopub.status.idle": "2024-11-02T16:18:53.304852Z",
          "shell.execute_reply.started": "2024-11-02T16:18:53.289408Z",
          "shell.execute_reply": "2024-11-02T16:18:53.303057Z"
        },
        "id": "A_gt46bEyVoH"
      },
      "outputs": [],
      "execution_count": null
    },
    {
      "cell_type": "code",
      "source": [
        "model = LinearRegression()\n",
        "model.fit(feature_train, target_train)\n"
      ],
      "metadata": {
        "trusted": true,
        "execution": {
          "iopub.status.busy": "2024-11-02T16:19:14.396594Z",
          "iopub.execute_input": "2024-11-02T16:19:14.397205Z",
          "iopub.status.idle": "2024-11-02T16:19:14.426732Z",
          "shell.execute_reply.started": "2024-11-02T16:19:14.397144Z",
          "shell.execute_reply": "2024-11-02T16:19:14.425114Z"
        },
        "id": "fcqg-pacyVoI"
      },
      "outputs": [],
      "execution_count": null
    },
    {
      "cell_type": "code",
      "source": [
        "target_pred = model.predict(feature_test)\n",
        "print(target_pred)"
      ],
      "metadata": {
        "trusted": true,
        "execution": {
          "iopub.status.busy": "2024-11-02T16:31:50.501764Z",
          "iopub.execute_input": "2024-11-02T16:31:50.502248Z",
          "iopub.status.idle": "2024-11-02T16:31:50.511484Z",
          "shell.execute_reply.started": "2024-11-02T16:31:50.502205Z",
          "shell.execute_reply": "2024-11-02T16:31:50.510157Z"
        },
        "id": "buyBjqOqyVoI"
      },
      "outputs": [],
      "execution_count": null
    },
    {
      "cell_type": "code",
      "source": [
        "mae = mean_absolute_error(target_test, target_pred)\n",
        "print(mae)\n"
      ],
      "metadata": {
        "trusted": true,
        "execution": {
          "iopub.status.busy": "2024-11-02T16:31:52.877451Z",
          "iopub.execute_input": "2024-11-02T16:31:52.878039Z",
          "iopub.status.idle": "2024-11-02T16:31:52.886769Z",
          "shell.execute_reply.started": "2024-11-02T16:31:52.87798Z",
          "shell.execute_reply": "2024-11-02T16:31:52.885243Z"
        },
        "id": "f387PjfByVoJ"
      },
      "outputs": [],
      "execution_count": null
    },
    {
      "cell_type": "code",
      "source": [
        "plt.figure(figsize=(10, 6))\n",
        "plt.scatter(feature_test, target_test, color='blue', label='Actual')\n",
        "plt.plot(feature_test, target_pred, color='red', label='Predicted')\n",
        "plt.xlabel('Years of Experience')\n",
        "plt.ylabel('Salary')\n",
        "plt.title('Actual vs Predicted Salaries')\n",
        "plt.legend()\n",
        "plt.show()\n"
      ],
      "metadata": {
        "trusted": true,
        "execution": {
          "iopub.status.busy": "2024-11-02T16:31:54.265869Z",
          "iopub.execute_input": "2024-11-02T16:31:54.267674Z",
          "iopub.status.idle": "2024-11-02T16:31:54.806218Z",
          "shell.execute_reply.started": "2024-11-02T16:31:54.267599Z",
          "shell.execute_reply": "2024-11-02T16:31:54.804985Z"
        },
        "id": "CrkaFnwqyVoJ"
      },
      "outputs": [],
      "execution_count": null
    },
    {
      "cell_type": "code",
      "source": [
        "output = pd.DataFrame({'Actual': target_test, 'Predicted': target_pred})\n",
        "output.to_csv(\"submission.csv\", index=False)\n",
        "\n"
      ],
      "metadata": {
        "trusted": true,
        "execution": {
          "iopub.status.busy": "2024-11-02T16:35:28.737655Z",
          "iopub.execute_input": "2024-11-02T16:35:28.738165Z",
          "iopub.status.idle": "2024-11-02T16:35:28.745515Z",
          "shell.execute_reply.started": "2024-11-02T16:35:28.738116Z",
          "shell.execute_reply": "2024-11-02T16:35:28.743699Z"
        },
        "id": "1bpsHvOXyVoJ"
      },
      "outputs": [],
      "execution_count": null
    },
    {
      "cell_type": "code",
      "source": [
        "print(output)"
      ],
      "metadata": {
        "trusted": true,
        "execution": {
          "iopub.status.busy": "2024-11-02T16:35:32.19553Z",
          "iopub.execute_input": "2024-11-02T16:35:32.196048Z",
          "iopub.status.idle": "2024-11-02T16:35:32.206897Z",
          "shell.execute_reply.started": "2024-11-02T16:35:32.196Z",
          "shell.execute_reply": "2024-11-02T16:35:32.204691Z"
        },
        "id": "oPTZ_iVvyVoK"
      },
      "outputs": [],
      "execution_count": null
    },
    {
      "cell_type": "code",
      "source": [],
      "metadata": {
        "trusted": true,
        "id": "oyPy1ddLyVoK"
      },
      "outputs": [],
      "execution_count": null
    }
  ]
}