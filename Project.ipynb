{
  "nbformat": 4,
  "nbformat_minor": 0,
  "metadata": {
    "colab": {
      "provenance": [],
      "authorship_tag": "ABX9TyPptPkVON3x9O+3+YteEofK",
      "include_colab_link": true
    },
    "kernelspec": {
      "name": "python3",
      "display_name": "Python 3"
    },
    "language_info": {
      "name": "python"
    }
  },
  "cells": [
    {
      "cell_type": "markdown",
      "metadata": {
        "id": "view-in-github",
        "colab_type": "text"
      },
      "source": [
        "<a href=\"https://colab.research.google.com/github/Harshita15887/SML/blob/main/Project.ipynb\" target=\"_parent\"><img src=\"https://colab.research.google.com/assets/colab-badge.svg\" alt=\"Open In Colab\"/></a>"
      ]
    },
    {
      "cell_type": "code",
      "execution_count": 1,
      "metadata": {
        "id": "el6m4i82Wckq"
      },
      "outputs": [],
      "source": [
        "import pandas as pd\n"
      ]
    },
    {
      "cell_type": "code",
      "source": [
        "df=pd.read_csv('/content/Student Mental health.csv')"
      ],
      "metadata": {
        "id": "awKj2w4VWmBD"
      },
      "execution_count": 3,
      "outputs": []
    },
    {
      "cell_type": "code",
      "source": [
        "print(df)"
      ],
      "metadata": {
        "colab": {
          "base_uri": "https://localhost:8080/"
        },
        "id": "BFd4WOWQWqjj",
        "outputId": "8786e928-5a38-482a-eaa8-de52cd8366a7"
      },
      "execution_count": null,
      "outputs": [
        {
          "output_type": "stream",
          "name": "stdout",
          "text": [
            "               Timestamp Choose your gender   Age What is your course?  \\\n",
            "0         8/7/2020 12:02             Female  18.0          Engineering   \n",
            "1         8/7/2020 12:04               Male  21.0    Islamic education   \n",
            "2         8/7/2020 12:05               Male  19.0                  BIT   \n",
            "3         8/7/2020 12:06             Female  22.0                 Laws   \n",
            "4         8/7/2020 12:13               Male  23.0         Mathemathics   \n",
            "..                   ...                ...   ...                  ...   \n",
            "96   13/07/2020 19:56:49             Female  21.0                  BCS   \n",
            "97   13/07/2020 21:21:42               Male  18.0          Engineering   \n",
            "98   13/07/2020 21:22:56             Female  19.0             Nursing    \n",
            "99   13/07/2020 21:23:57             Female  23.0     Pendidikan Islam   \n",
            "100  18/07/2020 20:16:21               Male  20.0   Biomedical science   \n",
            "\n",
            "    Your current year of Study What is your CGPA? Marital status  \\\n",
            "0                       year 1        3.00 - 3.49             No   \n",
            "1                       year 2        3.00 - 3.49             No   \n",
            "2                       Year 1        3.00 - 3.49             No   \n",
            "3                       year 3        3.00 - 3.49            Yes   \n",
            "4                       year 4        3.00 - 3.49             No   \n",
            "..                         ...                ...            ...   \n",
            "96                      year 1        3.50 - 4.00             No   \n",
            "97                      Year 2        3.00 - 3.49             No   \n",
            "98                      Year 3        3.50 - 4.00            Yes   \n",
            "99                      year 4        3.50 - 4.00             No   \n",
            "100                     Year 2        3.00 - 3.49             No   \n",
            "\n",
            "    Do you have Depression? Do you have Anxiety? Do you have Panic attack?  \\\n",
            "0                       Yes                   No                       Yes   \n",
            "1                        No                  Yes                        No   \n",
            "2                       Yes                  Yes                       Yes   \n",
            "3                       Yes                   No                        No   \n",
            "4                        No                   No                        No   \n",
            "..                      ...                  ...                       ...   \n",
            "96                       No                  Yes                        No   \n",
            "97                      Yes                  Yes                        No   \n",
            "98                      Yes                   No                       Yes   \n",
            "99                       No                   No                        No   \n",
            "100                      No                   No                        No   \n",
            "\n",
            "    Did you seek any specialist for a treatment?  \n",
            "0                                             No  \n",
            "1                                             No  \n",
            "2                                             No  \n",
            "3                                             No  \n",
            "4                                             No  \n",
            "..                                           ...  \n",
            "96                                            No  \n",
            "97                                            No  \n",
            "98                                            No  \n",
            "99                                            No  \n",
            "100                                           No  \n",
            "\n",
            "[101 rows x 11 columns]\n"
          ]
        }
      ]
    },
    {
      "cell_type": "code",
      "source": [
        "y=df['Did you seek any specialist for a treatment?']"
      ],
      "metadata": {
        "id": "MCi6G5tqWucz"
      },
      "execution_count": 4,
      "outputs": []
    },
    {
      "cell_type": "code",
      "source": [
        "print(y)"
      ],
      "metadata": {
        "colab": {
          "base_uri": "https://localhost:8080/"
        },
        "id": "1Z3nzxc6YUMC",
        "outputId": "f1ad49c0-e2c6-43e1-f549-96e0d601e05d"
      },
      "execution_count": 5,
      "outputs": [
        {
          "output_type": "stream",
          "name": "stdout",
          "text": [
            "0      No\n",
            "1      No\n",
            "2      No\n",
            "3      No\n",
            "4      No\n",
            "       ..\n",
            "96     No\n",
            "97     No\n",
            "98     No\n",
            "99     No\n",
            "100    No\n",
            "Name: Did you seek any specialist for a treatment?, Length: 101, dtype: object\n"
          ]
        }
      ]
    },
    {
      "cell_type": "code",
      "source": [
        "x=df.drop('Did you seek any specialist for a treatment?',axis=1)"
      ],
      "metadata": {
        "id": "-suYuUlGYVpy"
      },
      "execution_count": 6,
      "outputs": []
    },
    {
      "cell_type": "code",
      "source": [
        "print(x)"
      ],
      "metadata": {
        "id": "TdYqs9TrYcNo",
        "outputId": "15a0cf96-5ec5-41de-9523-cb4701c6b023",
        "colab": {
          "base_uri": "https://localhost:8080/"
        }
      },
      "execution_count": 7,
      "outputs": [
        {
          "output_type": "stream",
          "name": "stdout",
          "text": [
            "               Timestamp Choose your gender   Age What is your course?  \\\n",
            "0         8/7/2020 12:02             Female  18.0          Engineering   \n",
            "1         8/7/2020 12:04               Male  21.0    Islamic education   \n",
            "2         8/7/2020 12:05               Male  19.0                  BIT   \n",
            "3         8/7/2020 12:06             Female  22.0                 Laws   \n",
            "4         8/7/2020 12:13               Male  23.0         Mathemathics   \n",
            "..                   ...                ...   ...                  ...   \n",
            "96   13/07/2020 19:56:49             Female  21.0                  BCS   \n",
            "97   13/07/2020 21:21:42               Male  18.0          Engineering   \n",
            "98   13/07/2020 21:22:56             Female  19.0             Nursing    \n",
            "99   13/07/2020 21:23:57             Female  23.0     Pendidikan Islam   \n",
            "100  18/07/2020 20:16:21               Male  20.0   Biomedical science   \n",
            "\n",
            "    Your current year of Study What is your CGPA? Marital status  \\\n",
            "0                       year 1        3.00 - 3.49             No   \n",
            "1                       year 2        3.00 - 3.49             No   \n",
            "2                       Year 1        3.00 - 3.49             No   \n",
            "3                       year 3        3.00 - 3.49            Yes   \n",
            "4                       year 4        3.00 - 3.49             No   \n",
            "..                         ...                ...            ...   \n",
            "96                      year 1        3.50 - 4.00             No   \n",
            "97                      Year 2        3.00 - 3.49             No   \n",
            "98                      Year 3        3.50 - 4.00            Yes   \n",
            "99                      year 4        3.50 - 4.00             No   \n",
            "100                     Year 2        3.00 - 3.49             No   \n",
            "\n",
            "    Do you have Depression? Do you have Anxiety? Do you have Panic attack?  \n",
            "0                       Yes                   No                       Yes  \n",
            "1                        No                  Yes                        No  \n",
            "2                       Yes                  Yes                       Yes  \n",
            "3                       Yes                   No                        No  \n",
            "4                        No                   No                        No  \n",
            "..                      ...                  ...                       ...  \n",
            "96                       No                  Yes                        No  \n",
            "97                      Yes                  Yes                        No  \n",
            "98                      Yes                   No                       Yes  \n",
            "99                       No                   No                        No  \n",
            "100                      No                   No                        No  \n",
            "\n",
            "[101 rows x 10 columns]\n"
          ]
        }
      ]
    },
    {
      "cell_type": "code",
      "source": [
        "data=['Do you have Depression?','Do you have Anxiety?','Do you have Panic attack?','Did you seek any specialist for a treatment?']"
      ],
      "metadata": {
        "id": "5bXCLeYlYd1f"
      },
      "execution_count": 8,
      "outputs": []
    },
    {
      "cell_type": "code",
      "source": [
        "df[data]=df[data].replace({'Yes': 1, 'No': 0})"
      ],
      "metadata": {
        "id": "wbiD9-PrQNK2"
      },
      "execution_count": 9,
      "outputs": []
    },
    {
      "cell_type": "code",
      "source": [
        "print(df)"
      ],
      "metadata": {
        "colab": {
          "base_uri": "https://localhost:8080/"
        },
        "id": "i4FMBQ-vQqPI",
        "outputId": "de509b76-712c-4c51-91d7-d8926262cf44"
      },
      "execution_count": 10,
      "outputs": [
        {
          "output_type": "stream",
          "name": "stdout",
          "text": [
            "               Timestamp Choose your gender   Age What is your course?  \\\n",
            "0         8/7/2020 12:02             Female  18.0          Engineering   \n",
            "1         8/7/2020 12:04               Male  21.0    Islamic education   \n",
            "2         8/7/2020 12:05               Male  19.0                  BIT   \n",
            "3         8/7/2020 12:06             Female  22.0                 Laws   \n",
            "4         8/7/2020 12:13               Male  23.0         Mathemathics   \n",
            "..                   ...                ...   ...                  ...   \n",
            "96   13/07/2020 19:56:49             Female  21.0                  BCS   \n",
            "97   13/07/2020 21:21:42               Male  18.0          Engineering   \n",
            "98   13/07/2020 21:22:56             Female  19.0             Nursing    \n",
            "99   13/07/2020 21:23:57             Female  23.0     Pendidikan Islam   \n",
            "100  18/07/2020 20:16:21               Male  20.0   Biomedical science   \n",
            "\n",
            "    Your current year of Study What is your CGPA? Marital status  \\\n",
            "0                       year 1        3.00 - 3.49             No   \n",
            "1                       year 2        3.00 - 3.49             No   \n",
            "2                       Year 1        3.00 - 3.49             No   \n",
            "3                       year 3        3.00 - 3.49            Yes   \n",
            "4                       year 4        3.00 - 3.49             No   \n",
            "..                         ...                ...            ...   \n",
            "96                      year 1        3.50 - 4.00             No   \n",
            "97                      Year 2        3.00 - 3.49             No   \n",
            "98                      Year 3        3.50 - 4.00            Yes   \n",
            "99                      year 4        3.50 - 4.00             No   \n",
            "100                     Year 2        3.00 - 3.49             No   \n",
            "\n",
            "     Do you have Depression?  Do you have Anxiety?  Do you have Panic attack?  \\\n",
            "0                          1                     0                          1   \n",
            "1                          0                     1                          0   \n",
            "2                          1                     1                          1   \n",
            "3                          1                     0                          0   \n",
            "4                          0                     0                          0   \n",
            "..                       ...                   ...                        ...   \n",
            "96                         0                     1                          0   \n",
            "97                         1                     1                          0   \n",
            "98                         1                     0                          1   \n",
            "99                         0                     0                          0   \n",
            "100                        0                     0                          0   \n",
            "\n",
            "     Did you seek any specialist for a treatment?  \n",
            "0                                               0  \n",
            "1                                               0  \n",
            "2                                               0  \n",
            "3                                               0  \n",
            "4                                               0  \n",
            "..                                            ...  \n",
            "96                                              0  \n",
            "97                                              0  \n",
            "98                                              0  \n",
            "99                                              0  \n",
            "100                                             0  \n",
            "\n",
            "[101 rows x 11 columns]\n"
          ]
        }
      ]
    },
    {
      "cell_type": "code",
      "source": [
        "y=df['Did you seek any specialist for a treatment?']"
      ],
      "metadata": {
        "id": "-kMlQ43FQrlB"
      },
      "execution_count": 11,
      "outputs": []
    },
    {
      "cell_type": "code",
      "source": [
        "print(y)"
      ],
      "metadata": {
        "colab": {
          "base_uri": "https://localhost:8080/"
        },
        "id": "VatDG8anQ3bE",
        "outputId": "65adb5f0-5966-4314-8f5c-31a1e8c27f7c"
      },
      "execution_count": 12,
      "outputs": [
        {
          "output_type": "stream",
          "name": "stdout",
          "text": [
            "0      0\n",
            "1      0\n",
            "2      0\n",
            "3      0\n",
            "4      0\n",
            "      ..\n",
            "96     0\n",
            "97     0\n",
            "98     0\n",
            "99     0\n",
            "100    0\n",
            "Name: Did you seek any specialist for a treatment?, Length: 101, dtype: int64\n"
          ]
        }
      ]
    },
    {
      "cell_type": "code",
      "source": [
        "x=df.drop('Did you seek any specialist for a treatment?',axis=1)"
      ],
      "metadata": {
        "id": "muM6YvecQ4l_"
      },
      "execution_count": 13,
      "outputs": []
    },
    {
      "cell_type": "code",
      "source": [
        "print(x)"
      ],
      "metadata": {
        "id": "1PCcYn8pRBBd",
        "outputId": "c21d714b-4fa4-4b4a-de67-969922449837",
        "colab": {
          "base_uri": "https://localhost:8080/"
        }
      },
      "execution_count": 14,
      "outputs": [
        {
          "output_type": "stream",
          "name": "stdout",
          "text": [
            "               Timestamp Choose your gender   Age What is your course?  \\\n",
            "0         8/7/2020 12:02             Female  18.0          Engineering   \n",
            "1         8/7/2020 12:04               Male  21.0    Islamic education   \n",
            "2         8/7/2020 12:05               Male  19.0                  BIT   \n",
            "3         8/7/2020 12:06             Female  22.0                 Laws   \n",
            "4         8/7/2020 12:13               Male  23.0         Mathemathics   \n",
            "..                   ...                ...   ...                  ...   \n",
            "96   13/07/2020 19:56:49             Female  21.0                  BCS   \n",
            "97   13/07/2020 21:21:42               Male  18.0          Engineering   \n",
            "98   13/07/2020 21:22:56             Female  19.0             Nursing    \n",
            "99   13/07/2020 21:23:57             Female  23.0     Pendidikan Islam   \n",
            "100  18/07/2020 20:16:21               Male  20.0   Biomedical science   \n",
            "\n",
            "    Your current year of Study What is your CGPA? Marital status  \\\n",
            "0                       year 1        3.00 - 3.49             No   \n",
            "1                       year 2        3.00 - 3.49             No   \n",
            "2                       Year 1        3.00 - 3.49             No   \n",
            "3                       year 3        3.00 - 3.49            Yes   \n",
            "4                       year 4        3.00 - 3.49             No   \n",
            "..                         ...                ...            ...   \n",
            "96                      year 1        3.50 - 4.00             No   \n",
            "97                      Year 2        3.00 - 3.49             No   \n",
            "98                      Year 3        3.50 - 4.00            Yes   \n",
            "99                      year 4        3.50 - 4.00             No   \n",
            "100                     Year 2        3.00 - 3.49             No   \n",
            "\n",
            "     Do you have Depression?  Do you have Anxiety?  Do you have Panic attack?  \n",
            "0                          1                     0                          1  \n",
            "1                          0                     1                          0  \n",
            "2                          1                     1                          1  \n",
            "3                          1                     0                          0  \n",
            "4                          0                     0                          0  \n",
            "..                       ...                   ...                        ...  \n",
            "96                         0                     1                          0  \n",
            "97                         1                     1                          0  \n",
            "98                         1                     0                          1  \n",
            "99                         0                     0                          0  \n",
            "100                        0                     0                          0  \n",
            "\n",
            "[101 rows x 10 columns]\n"
          ]
        }
      ]
    },
    {
      "cell_type": "code",
      "source": [],
      "metadata": {
        "id": "bfhkOwnIRCRt"
      },
      "execution_count": null,
      "outputs": []
    }
  ]
}