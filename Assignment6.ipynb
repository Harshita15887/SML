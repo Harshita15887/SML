{
  "nbformat": 4,
  "nbformat_minor": 0,
  "metadata": {
    "colab": {
      "provenance": [],
      "authorship_tag": "ABX9TyOkcoyn6Wd4Hn/9b2HCoLd5",
      "include_colab_link": true
    },
    "kernelspec": {
      "name": "python3",
      "display_name": "Python 3"
    },
    "language_info": {
      "name": "python"
    }
  },
  "cells": [
    {
      "cell_type": "markdown",
      "metadata": {
        "id": "view-in-github",
        "colab_type": "text"
      },
      "source": [
        "<a href=\"https://colab.research.google.com/github/Harshita15887/SML/blob/main/Assignment6.ipynb\" target=\"_parent\"><img src=\"https://colab.research.google.com/assets/colab-badge.svg\" alt=\"Open In Colab\"/></a>"
      ]
    },
    {
      "cell_type": "code",
      "execution_count": 1,
      "metadata": {
        "id": "u9pzv9p1k9tp"
      },
      "outputs": [],
      "source": [
        "import pandas as pd\n"
      ]
    },
    {
      "cell_type": "code",
      "source": [
        "df=pd.read_csv(\"/content/diabetes_data_upload.csv\")\n",
        "\n",
        "\n",
        "print(df)\n"
      ],
      "metadata": {
        "colab": {
          "base_uri": "https://localhost:8080/"
        },
        "id": "rBSKgRBzlI8-",
        "outputId": "93739d6b-1eed-416e-b261-006d058ed617"
      },
      "execution_count": 4,
      "outputs": [
        {
          "output_type": "stream",
          "name": "stdout",
          "text": [
            "     Age  Gender Polyuria Polydipsia sudden weight loss weakness Polyphagia  \\\n",
            "0     40    Male       No        Yes                 No      Yes         No   \n",
            "1     58    Male       No         No                 No      Yes         No   \n",
            "2     41    Male      Yes         No                 No      Yes        Yes   \n",
            "3     45    Male       No         No                Yes      Yes        Yes   \n",
            "4     60    Male      Yes        Yes                Yes      Yes        Yes   \n",
            "..   ...     ...      ...        ...                ...      ...        ...   \n",
            "515   39  Female      Yes        Yes                Yes       No        Yes   \n",
            "516   48  Female      Yes        Yes                Yes      Yes        Yes   \n",
            "517   58  Female      Yes        Yes                Yes      Yes        Yes   \n",
            "518   32  Female       No         No                 No      Yes         No   \n",
            "519   42    Male       No         No                 No       No         No   \n",
            "\n",
            "    Genital thrush visual blurring Itching Irritability delayed healing  \\\n",
            "0               No              No     Yes           No             Yes   \n",
            "1               No             Yes      No           No              No   \n",
            "2               No              No     Yes           No             Yes   \n",
            "3              Yes              No     Yes           No             Yes   \n",
            "4               No             Yes     Yes          Yes             Yes   \n",
            "..             ...             ...     ...          ...             ...   \n",
            "515             No              No     Yes           No             Yes   \n",
            "516             No              No     Yes          Yes             Yes   \n",
            "517             No             Yes      No           No              No   \n",
            "518             No             Yes     Yes           No             Yes   \n",
            "519             No              No      No           No              No   \n",
            "\n",
            "    partial paresis muscle stiffness Alopecia Obesity     class  \n",
            "0                No              Yes      Yes     Yes  Positive  \n",
            "1               Yes               No      Yes      No  Positive  \n",
            "2                No              Yes      Yes      No  Positive  \n",
            "3                No               No       No      No  Positive  \n",
            "4               Yes              Yes      Yes     Yes  Positive  \n",
            "..              ...              ...      ...     ...       ...  \n",
            "515             Yes               No       No      No  Positive  \n",
            "516             Yes               No       No      No  Positive  \n",
            "517             Yes              Yes       No     Yes  Positive  \n",
            "518              No               No      Yes      No  Negative  \n",
            "519              No               No       No      No  Negative  \n",
            "\n",
            "[520 rows x 17 columns]\n"
          ]
        }
      ]
    },
    {
      "cell_type": "code",
      "source": [
        "\n",
        "t=df[\"class\"]\n",
        "print(t)\n"
      ],
      "metadata": {
        "colab": {
          "base_uri": "https://localhost:8080/"
        },
        "id": "tHWHHjvYlQTf",
        "outputId": "a1672c09-591b-4425-8f60-0aaf75bebb79"
      },
      "execution_count": 20,
      "outputs": [
        {
          "output_type": "stream",
          "name": "stdout",
          "text": [
            "0    1\n",
            "1    1\n",
            "2    1\n",
            "3    1\n",
            "4    1\n",
            "5    1\n",
            "6    1\n",
            "7    1\n",
            "8   -1\n",
            "9   -1\n",
            "Name: class, dtype: int64\n"
          ]
        }
      ]
    },
    {
      "cell_type": "code",
      "source": [
        "\n",
        "f=df.drop(\"class\",axis=1)\n",
        "print(f)\n"
      ],
      "metadata": {
        "colab": {
          "base_uri": "https://localhost:8080/"
        },
        "id": "374TcLwqllBC",
        "outputId": "27ef59d3-e31a-4562-e0c6-a9c3a5b9b961"
      },
      "execution_count": 21,
      "outputs": [
        {
          "output_type": "stream",
          "name": "stdout",
          "text": [
            "   Age  Gender  Polyuria  Polydipsia  Sudden weight loss  Weakness  \\\n",
            "0   40       0         0           1                   0         1   \n",
            "1   58       0         0           0                   0         1   \n",
            "2   41       0         1           0                   0         1   \n",
            "3   45       0         0           0                   1         1   \n",
            "4   60       0         1           1                   1         1   \n",
            "5   39       1         1           1                   1         0   \n",
            "6   48       1         1           1                   1         1   \n",
            "7   58       1         1           1                   1         1   \n",
            "8   32       1         0           0                   0         1   \n",
            "9   42       0         0           0                   0         0   \n",
            "\n",
            "   Polyphagia  Genital thrush  Visual blurring  Itching  Irritability  \\\n",
            "0           0               0                0        1             0   \n",
            "1           0               0                1        0             0   \n",
            "2           1               0                0        1             0   \n",
            "3           1               1                0        1             0   \n",
            "4           1               0                1        1             1   \n",
            "5           1               0                0        1             0   \n",
            "6           1               0                0        1             1   \n",
            "7           1               0                1        0             0   \n",
            "8           0               0                1        1             0   \n",
            "9           0               0                0        0             0   \n",
            "\n",
            "   Delayed healing  Partial paresis  Muscle stiffness  Alopecia  Obesity  \n",
            "0                1                0                 1         1        1  \n",
            "1                0                1                 0         1        0  \n",
            "2                1                0                 1         1        0  \n",
            "3                1                0                 0         0        0  \n",
            "4                1                1                 1         1        1  \n",
            "5                1                1                 0         0        0  \n",
            "6                1                1                 0         0        1  \n",
            "7                0                1                 1         0        1  \n",
            "8                1                0                 0         1        0  \n",
            "9                0                0                 0         0        0  \n"
          ]
        }
      ]
    },
    {
      "cell_type": "code",
      "source": [
        "import pandas as pd\n"
      ],
      "metadata": {
        "id": "a3AEnBguloXD"
      },
      "execution_count": 7,
      "outputs": []
    },
    {
      "cell_type": "code",
      "source": [
        "data = {\n",
        "    'Age': [40, 58, 41, 45, 60, 39, 48, 58, 32, 42],\n",
        "    'Gender': ['Male', 'Male', 'Male', 'Male', 'Male', 'Female', 'Female', 'Female', 'Female', 'Male'],\n",
        "    'Polyuria': ['No', 'No', 'Yes', 'No', 'Yes', 'Yes', 'Yes', 'Yes', 'No', 'No'],\n",
        "    'Polydipsia': ['Yes', 'No', 'No', 'No', 'Yes', 'Yes', 'Yes', 'Yes', 'No', 'No'],\n",
        "    'Sudden weight loss': ['No', 'No', 'No', 'Yes', 'Yes', 'Yes', 'Yes', 'Yes', 'No', 'No'],\n",
        "    'Weakness': ['Yes', 'Yes', 'Yes', 'Yes', 'Yes', 'No', 'Yes', 'Yes', 'Yes', 'No'],\n",
        "    'Polyphagia': ['No', 'No', 'Yes', 'Yes', 'Yes', 'Yes', 'Yes', 'Yes', 'No', 'No'],\n",
        "    'Genital thrush': ['No', 'No', 'No', 'Yes', 'No', 'No', 'No', 'No', 'No', 'No'],\n",
        "    'Visual blurring': ['No', 'Yes', 'No', 'No', 'Yes', 'No', 'No', 'Yes', 'Yes', 'No'],\n",
        "    'Itching': ['Yes', 'No', 'Yes', 'Yes', 'Yes', 'Yes', 'Yes', 'No', 'Yes', 'No'],\n",
        "    'Irritability': ['No', 'No', 'No', 'No', 'Yes', 'No', 'Yes', 'No', 'No', 'No'],\n",
        "    'Delayed healing': ['Yes', 'No', 'Yes', 'Yes', 'Yes', 'Yes', 'Yes', 'No', 'Yes', 'No'],\n",
        "    'Partial paresis': ['No', 'Yes', 'No', 'No', 'Yes', 'Yes', 'Yes', 'Yes', 'No', 'No'],\n",
        "    'Muscle stiffness': ['Yes', 'No', 'Yes', 'No', 'Yes', 'No', 'No', 'Yes', 'No', 'No'],\n",
        "    'Alopecia': ['Yes', 'Yes', 'Yes', 'No', 'Yes', 'No', 'No', 'No', 'Yes', 'No'],\n",
        "    'Obesity': ['Yes', 'No', 'No', 'No', 'Yes', 'No', 'Yes', 'Yes', 'No', 'No'],\n",
        "    'class':['Positive','Positive','Positive','Positive','Positive','Positive','Positive','Positive','Negative','Negative']\n",
        "}\n"
      ],
      "metadata": {
        "id": "2ty_pJ-xm7h7"
      },
      "execution_count": 14,
      "outputs": []
    },
    {
      "cell_type": "code",
      "source": [
        "df = pd.DataFrame(data)\n",
        "\n",
        "\n",
        "df.replace({'Yes': 1, 'No': 0}, inplace=True)\n",
        "df.replace({'Female':1, 'Male':0},inplace=True)\n",
        "df.replace({'Positive':1,'Negative':-1},inplace=True)\n"
      ],
      "metadata": {
        "id": "FyD2eHJNlsOR"
      },
      "execution_count": 15,
      "outputs": []
    },
    {
      "cell_type": "code",
      "source": [
        "print(df)\n"
      ],
      "metadata": {
        "colab": {
          "base_uri": "https://localhost:8080/"
        },
        "id": "DrJk-n83lvrT",
        "outputId": "ed376f7b-2276-4016-90d2-4ba6c9ad564d"
      },
      "execution_count": 26,
      "outputs": [
        {
          "output_type": "stream",
          "name": "stdout",
          "text": [
            "   Age  Gender  Polyuria  Polydipsia  Sudden weight loss  Weakness  \\\n",
            "0   40       0         0           1                   0         1   \n",
            "1   58       0         0           0                   0         1   \n",
            "2   41       0         1           0                   0         1   \n",
            "3   45       0         0           0                   1         1   \n",
            "4   60       0         1           1                   1         1   \n",
            "5   39       1         1           1                   1         0   \n",
            "6   48       1         1           1                   1         1   \n",
            "7   58       1         1           1                   1         1   \n",
            "8   32       1         0           0                   0         1   \n",
            "9   42       0         0           0                   0         0   \n",
            "\n",
            "   Polyphagia  Genital thrush  Visual blurring  Itching  Irritability  \\\n",
            "0           0               0                0        1             0   \n",
            "1           0               0                1        0             0   \n",
            "2           1               0                0        1             0   \n",
            "3           1               1                0        1             0   \n",
            "4           1               0                1        1             1   \n",
            "5           1               0                0        1             0   \n",
            "6           1               0                0        1             1   \n",
            "7           1               0                1        0             0   \n",
            "8           0               0                1        1             0   \n",
            "9           0               0                0        0             0   \n",
            "\n",
            "   Delayed healing  Partial paresis  Muscle stiffness  Alopecia  Obesity  \\\n",
            "0                1                0                 1         1        1   \n",
            "1                0                1                 0         1        0   \n",
            "2                1                0                 1         1        0   \n",
            "3                1                0                 0         0        0   \n",
            "4                1                1                 1         1        1   \n",
            "5                1                1                 0         0        0   \n",
            "6                1                1                 0         0        1   \n",
            "7                0                1                 1         0        1   \n",
            "8                1                0                 0         1        0   \n",
            "9                0                0                 0         0        0   \n",
            "\n",
            "   class  \n",
            "0      1  \n",
            "1      1  \n",
            "2      1  \n",
            "3      1  \n",
            "4      1  \n",
            "5      1  \n",
            "6      1  \n",
            "7      1  \n",
            "8     -1  \n",
            "9     -1  \n"
          ]
        }
      ]
    },
    {
      "cell_type": "code",
      "source": [
        "w0,w1,w2,w3,w4,w5,w6,w7,w8,w9,w10,w11,w12,w13,w14,w15,w16,X0=1,1,0,2,3,1,2,0.5,1,0,0.5,1,0,1,1,1,1,1\n"
      ],
      "metadata": {
        "id": "O0imt_Dwlyqt"
      },
      "execution_count": 27,
      "outputs": []
    },
    {
      "cell_type": "code",
      "source": [
        "z=w0*X0+w1*df['Age']+w2*df['Gender']+w3*df['Polyuria']+w4*df['Polydipsia']+w5*df['Sudden weight loss']+w6*df['Weakness']+w7*df['Polyphagia']+w8*df['Genital thrush']+w9*df['Visual blurring']+w10*df['Itching']+w11*df['Irritability']+w12*df['Delayed healing']+w13*df['Partial paresis']+w14*df['Muscle stiffness']+w15*df['Alopecia']+w16*df['Obesity']\n",
        "print(z)\n"
      ],
      "metadata": {
        "colab": {
          "base_uri": "https://localhost:8080/"
        },
        "id": "K2lCPnqDl1-9",
        "outputId": "319539f6-4c1f-42e7-95c9-f19dddefe40c"
      },
      "execution_count": 30,
      "outputs": [
        {
          "output_type": "stream",
          "name": "stdout",
          "text": [
            "0    49.5\n",
            "1    63.0\n",
            "2    49.0\n",
            "3    51.0\n",
            "4    75.0\n",
            "5    48.0\n",
            "6    61.0\n",
            "7    70.5\n",
            "8    36.5\n",
            "9    43.0\n",
            "dtype: float64\n"
          ]
        }
      ]
    },
    {
      "cell_type": "code",
      "source": [
        "yp=[]\n",
        "for i in range(0,10):\n",
        "  if z[i]>0:\n",
        "     yp.append(1)\n",
        "  else:\n",
        "     yp.append(0)\n",
        "\n",
        "\n",
        "\n",
        "print(yp)\n"
      ],
      "metadata": {
        "colab": {
          "base_uri": "https://localhost:8080/"
        },
        "id": "8PS1KtTfl4hh",
        "outputId": "d34ecc34-2a5c-4539-92e9-a7cf6376232b"
      },
      "execution_count": 31,
      "outputs": [
        {
          "output_type": "stream",
          "name": "stdout",
          "text": [
            "[1, 1, 1, 1, 1, 1, 1, 1, 1, 1]\n"
          ]
        }
      ]
    },
    {
      "cell_type": "code",
      "source": [
        "error=t-yp\n",
        "print(error)"
      ],
      "metadata": {
        "id": "EDdjGDhLnTLN",
        "outputId": "45a45932-2a74-44c1-d45a-136cf7e196e2",
        "colab": {
          "base_uri": "https://localhost:8080/"
        }
      },
      "execution_count": 32,
      "outputs": [
        {
          "output_type": "stream",
          "name": "stdout",
          "text": [
            "0    0\n",
            "1    0\n",
            "2    0\n",
            "3    0\n",
            "4    0\n",
            "5    0\n",
            "6    0\n",
            "7    0\n",
            "8   -2\n",
            "9   -2\n",
            "Name: class, dtype: int64\n"
          ]
        }
      ]
    },
    {
      "cell_type": "code",
      "source": [
        "m=(error*error).sum()/9\n",
        "print(m)\n"
      ],
      "metadata": {
        "id": "XF30R-9cnV-G",
        "outputId": "1f8fb59b-2faf-4ee9-de6b-e24454d0c8d5",
        "colab": {
          "base_uri": "https://localhost:8080/"
        }
      },
      "execution_count": 23,
      "outputs": [
        {
          "output_type": "stream",
          "name": "stdout",
          "text": [
            "0.8888888888888888\n"
          ]
        }
      ]
    },
    {
      "cell_type": "code",
      "source": [
        "a=(error).sum()/9\n",
        "print(a)\n"
      ],
      "metadata": {
        "id": "pBu9QU_cn6xq",
        "outputId": "65c4731b-f1d8-4f59-c51f-82d45b1522b6",
        "colab": {
          "base_uri": "https://localhost:8080/"
        }
      },
      "execution_count": 24,
      "outputs": [
        {
          "output_type": "stream",
          "name": "stdout",
          "text": [
            "-0.4444444444444444\n"
          ]
        }
      ]
    },
    {
      "cell_type": "code",
      "source": [
        "wnew=w0+1*a*X0\n",
        "wnew1=w2+1*a*(df['Age'].sum()/9)\n",
        "wnew2=w3+1*a*(df['Gender'].sum()/9)\n",
        "wnew3=w4+1*a*(df['Polyuria'].sum()/9)\n",
        "wnew4=w5+1*a*(df['Polydipsia'].sum()/9)\n",
        "wnew5=w1+1*a*(df['Sudden weight loss'].sum()/9)\n",
        "wnew6=w2+1*a*(df['Weakness'].sum()/9)\n",
        "wnew7=w3+1*a*(df['Polyphagia'].sum()/9)\n",
        "wnew8=w4+1*a*(df['Genital thrush'].sum()/9)\n",
        "wnew9=w5+1*a*(df['Visual blurring'].sum()/9)\n",
        "wnew10=w1+1*a*(df['Itching'].sum()/9)\n",
        "wnew11=w2+1*a*(df['Irritability'].sum()/9)\n",
        "wnew12=w3+1*a*(df['Delayed healing'].sum()/9)\n",
        "wnew13=w4+1*a*(df['Partial paresis'].sum()/9)\n",
        "wnew14=w5+1*a*(df['Muscle stiffness'].sum()/9)\n",
        "wnew15=w5+1*a*(df['Alopecia'].sum()/9)\n",
        "wnew16=w5+1*a*(df['Obesity'].sum()/9)\n"
      ],
      "metadata": {
        "id": "KzDgS9LHn9YN"
      },
      "execution_count": 33,
      "outputs": []
    },
    {
      "cell_type": "code",
      "source": [
        "\n",
        "print(wnew)\n",
        "print(wnew1)\n",
        "print(wnew2)\n",
        "print(wnew3)\n",
        "print(wnew4)\n",
        "print(wnew5)\n",
        "print(wnew6)\n",
        "print(wnew7)\n",
        "print(wnew8)\n",
        "print(wnew9)\n",
        "print(wnew10)\n",
        "print(wnew11)\n",
        "print(wnew12)\n",
        "print(wnew13)\n",
        "print(wnew14)\n",
        "print(wnew15)\n",
        "print(wnew16)\n"
      ],
      "metadata": {
        "id": "F4PGGv3moBBG",
        "outputId": "9595c085-fc3d-4304-d91b-a897c024b62b",
        "colab": {
          "base_uri": "https://localhost:8080/"
        }
      },
      "execution_count": 34,
      "outputs": [
        {
          "output_type": "stream",
          "name": "stdout",
          "text": [
            "0.5555555555555556\n",
            "-22.864197530864196\n",
            "1.8024691358024691\n",
            "2.753086419753086\n",
            "0.7530864197530864\n",
            "0.7530864197530864\n",
            "-0.3950617283950617\n",
            "1.7037037037037037\n",
            "2.950617283950617\n",
            "0.8024691358024691\n",
            "0.654320987654321\n",
            "-0.09876543209876543\n",
            "1.654320987654321\n",
            "2.753086419753086\n",
            "0.8024691358024691\n",
            "0.7530864197530864\n",
            "0.8024691358024691\n"
          ]
        }
      ]
    },
    {
      "cell_type": "code",
      "source": [
        "z=wnew*X0+wnew*df['Age']+wnew2*df['Gender']+wnew3*df['Polyuria']+wnew4*df['Polydipsia']+wnew5*df['Sudden weight loss']+wnew6*df['Weakness']+wnew7*df['Polyphagia']+wnew8*df['Genital thrush']+wnew9*df['Visual blurring']+wnew10*df['Itching']+wnew11*df['Irritability']+wnew12*df['Delayed healing']+wnew13*df['Partial paresis']+wnew14*df['Muscle stiffness']+wnew15*df['Alopecia']+wnew16*df['Obesity']\n",
        "print(z)\n"
      ],
      "metadata": {
        "id": "qa5EKLQkof6Y",
        "outputId": "b12fe88c-c8c2-4e72-dc4b-60db982bddad",
        "colab": {
          "base_uri": "https://localhost:8080/"
        }
      },
      "execution_count": 35,
      "outputs": [
        {
          "output_type": "stream",
          "name": "stdout",
          "text": [
            "0    27.802469\n",
            "1    36.691358\n",
            "2    31.259259\n",
            "3    32.876543\n",
            "4    47.580247\n",
            "5    35.049383\n",
            "6    40.358025\n",
            "7    45.308642\n",
            "8    23.604938\n",
            "9    23.888889\n",
            "dtype: float64\n"
          ]
        }
      ]
    },
    {
      "cell_type": "code",
      "source": [
        "\n",
        "yp=[]\n",
        "for i in range(0,10):\n",
        "  if z[i]>0:\n",
        "     yp.append(1)\n",
        "  else:\n",
        "     yp.append(0)\n",
        "\n",
        "\n",
        "\n",
        "print(yp)\n"
      ],
      "metadata": {
        "id": "MXKkorPtoifC",
        "outputId": "d18cb608-e092-4d4e-fb35-dc169d2fe239",
        "colab": {
          "base_uri": "https://localhost:8080/"
        }
      },
      "execution_count": 36,
      "outputs": [
        {
          "output_type": "stream",
          "name": "stdout",
          "text": [
            "[1, 1, 1, 1, 1, 1, 1, 1, 1, 1]\n"
          ]
        }
      ]
    },
    {
      "cell_type": "code",
      "source": [
        "error=t-yp\n",
        "print(error)\n"
      ],
      "metadata": {
        "id": "nEfFPPm-okuK",
        "outputId": "174fe1f4-fa77-48f4-c70b-25b7ae0cabfa",
        "colab": {
          "base_uri": "https://localhost:8080/"
        }
      },
      "execution_count": 37,
      "outputs": [
        {
          "output_type": "stream",
          "name": "stdout",
          "text": [
            "0    0\n",
            "1    0\n",
            "2    0\n",
            "3    0\n",
            "4    0\n",
            "5    0\n",
            "6    0\n",
            "7    0\n",
            "8   -2\n",
            "9   -2\n",
            "Name: class, dtype: int64\n"
          ]
        }
      ]
    },
    {
      "cell_type": "code",
      "source": [
        "s=(error*error).sum()/9\n",
        "print(s)\n",
        "\n"
      ],
      "metadata": {
        "id": "5n1UnCVyomU1",
        "outputId": "776425fa-e738-4755-b340-ba793d151ffd",
        "colab": {
          "base_uri": "https://localhost:8080/"
        }
      },
      "execution_count": 38,
      "outputs": [
        {
          "output_type": "stream",
          "name": "stdout",
          "text": [
            "0.8888888888888888\n"
          ]
        }
      ]
    },
    {
      "cell_type": "code",
      "source": [],
      "metadata": {
        "id": "blXHuAl1oo2e"
      },
      "execution_count": null,
      "outputs": []
    }
  ]
}